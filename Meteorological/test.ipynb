{
 "cells": [
  {
   "cell_type": "code",
   "id": "initial_id",
   "metadata": {
    "collapsed": true,
    "ExecuteTime": {
     "end_time": "2024-11-20T09:02:11.795890Z",
     "start_time": "2024-11-20T09:01:54.740595Z"
    }
   },
   "source": [
    "from toolbar.TN_WaveActivityFlux import TN_WAF_3D\n",
    "from toolbar.curved_quivers.modplot import Curlyquiver\n",
    "import numpy as np\n",
    "import matplotlib.pyplot as plt\n",
    "import xarray as xr\n",
    "import pandas as pd\n",
    "import cartopy.crs as ccrs\n",
    "import cartopy.feature as cfeature\n",
    "\n",
    "#以下为数据读取部分，最终所得z300，u300，v300为2014年11月的300hPa位势高度场，UV风场的月平均；\n",
    "#z_tmp，u_tmp，v_tmp为1979-2018年11月的气候态；\n",
    "#所有数据来自ECMWF的ERA-Interim数据集\n",
    "f_z300 = xr.open_dataset(\"E:\\data\\ERA5\\ERA5_pressLev\\era5_pressLev.nc\").sel(date=slice(19790101, 20181231),\n",
    "                                                                            pressure_level=300)\n",
    "f_z300 = xr.Dataset({\n",
    "    'z': (['date', 'level', 'lat', 'lon'], f_z300['z'].data[:, np.newaxis, :, :]),\n",
    "    'u': (['date', 'level', 'lat', 'lon'], f_z300['u'].data[:, np.newaxis, :, :]),\n",
    "    'v': (['date', 'level', 'lat', 'lon'], f_z300['v'].data[:, np.newaxis, :, :]), },\n",
    "    coords={'date': pd.to_datetime(f_z300['date'], format=\"%Y%m%d\"),\n",
    "            'level': [300],\n",
    "            'lat': f_z300['latitude'].data,\n",
    "            'lon': f_z300['longitude'].data})\n",
    "z300 = f_z300['z'].sel(date='2014-11-01')\n",
    "z300 = z300\n",
    "z_tmp = f_z300['z'].loc[f_z300.date.dt.month.isin([11])]\n",
    "z_tmp = z_tmp.mean(('date'))\n",
    "u300 = f_z300['u'].sel(date='2014-11-01')\n",
    "u_tmp = f_z300['u'].loc[f_z300.date.dt.month.isin([11])]\n",
    "u_tmp = u_tmp.mean(('date'))\n",
    "v300 = f_z300['v'].sel(date='2014-11-01')\n",
    "v_tmp = f_z300['v'].loc[f_z300.date.dt.month.isin([11])]\n",
    "v_tmp = v_tmp.mean(('date'))\n",
    "lat = f_z300['lat']\n",
    "lon = f_z300['lon']\n"
   ],
   "outputs": [
    {
     "ename": "KeyboardInterrupt",
     "evalue": "",
     "output_type": "error",
     "traceback": [
      "\u001B[1;31m---------------------------------------------------------------------------\u001B[0m",
      "\u001B[1;31mKeyboardInterrupt\u001B[0m                         Traceback (most recent call last)",
      "Cell \u001B[1;32mIn[2], line 16\u001B[0m\n\u001B[0;32m     10\u001B[0m \u001B[38;5;66;03m#以下为数据读取部分，最终所得z300，u300，v300为2014年11月的300hPa位势高度场，UV风场的月平均；\u001B[39;00m\n\u001B[0;32m     11\u001B[0m \u001B[38;5;66;03m#z_tmp，u_tmp，v_tmp为1979-2018年11月的气候态；\u001B[39;00m\n\u001B[0;32m     12\u001B[0m \u001B[38;5;66;03m#所有数据来自ECMWF的ERA-Interim数据集\u001B[39;00m\n\u001B[0;32m     13\u001B[0m f_z300 \u001B[38;5;241m=\u001B[39m xr\u001B[38;5;241m.\u001B[39mopen_dataset(\u001B[38;5;124m\"\u001B[39m\u001B[38;5;124mE:\u001B[39m\u001B[38;5;124m\\\u001B[39m\u001B[38;5;124mdata\u001B[39m\u001B[38;5;124m\\\u001B[39m\u001B[38;5;124mERA5\u001B[39m\u001B[38;5;124m\\\u001B[39m\u001B[38;5;124mERA5_pressLev\u001B[39m\u001B[38;5;124m\\\u001B[39m\u001B[38;5;124mera5_pressLev.nc\u001B[39m\u001B[38;5;124m\"\u001B[39m)\u001B[38;5;241m.\u001B[39msel(date\u001B[38;5;241m=\u001B[39m\u001B[38;5;28mslice\u001B[39m(\u001B[38;5;241m19790101\u001B[39m, \u001B[38;5;241m20181231\u001B[39m),\n\u001B[0;32m     14\u001B[0m                                                                             pressure_level\u001B[38;5;241m=\u001B[39m\u001B[38;5;241m300\u001B[39m)\n\u001B[0;32m     15\u001B[0m f_z300 \u001B[38;5;241m=\u001B[39m xr\u001B[38;5;241m.\u001B[39mDataset({\n\u001B[1;32m---> 16\u001B[0m     \u001B[38;5;124m'\u001B[39m\u001B[38;5;124mz\u001B[39m\u001B[38;5;124m'\u001B[39m: ([\u001B[38;5;124m'\u001B[39m\u001B[38;5;124mdate\u001B[39m\u001B[38;5;124m'\u001B[39m, \u001B[38;5;124m'\u001B[39m\u001B[38;5;124mlevel\u001B[39m\u001B[38;5;124m'\u001B[39m, \u001B[38;5;124m'\u001B[39m\u001B[38;5;124mlat\u001B[39m\u001B[38;5;124m'\u001B[39m, \u001B[38;5;124m'\u001B[39m\u001B[38;5;124mlon\u001B[39m\u001B[38;5;124m'\u001B[39m], \u001B[43mf_z300\u001B[49m\u001B[43m[\u001B[49m\u001B[38;5;124;43m'\u001B[39;49m\u001B[38;5;124;43mz\u001B[39;49m\u001B[38;5;124;43m'\u001B[39;49m\u001B[43m]\u001B[49m\u001B[38;5;241;43m.\u001B[39;49m\u001B[43mdata\u001B[49m[:, np\u001B[38;5;241m.\u001B[39mnewaxis, :, :]),\n\u001B[0;32m     17\u001B[0m     \u001B[38;5;124m'\u001B[39m\u001B[38;5;124mu\u001B[39m\u001B[38;5;124m'\u001B[39m: ([\u001B[38;5;124m'\u001B[39m\u001B[38;5;124mdate\u001B[39m\u001B[38;5;124m'\u001B[39m, \u001B[38;5;124m'\u001B[39m\u001B[38;5;124mlevel\u001B[39m\u001B[38;5;124m'\u001B[39m, \u001B[38;5;124m'\u001B[39m\u001B[38;5;124mlat\u001B[39m\u001B[38;5;124m'\u001B[39m, \u001B[38;5;124m'\u001B[39m\u001B[38;5;124mlon\u001B[39m\u001B[38;5;124m'\u001B[39m], f_z300[\u001B[38;5;124m'\u001B[39m\u001B[38;5;124mu\u001B[39m\u001B[38;5;124m'\u001B[39m]\u001B[38;5;241m.\u001B[39mdata[:, np\u001B[38;5;241m.\u001B[39mnewaxis, :, :]),\n\u001B[0;32m     18\u001B[0m     \u001B[38;5;124m'\u001B[39m\u001B[38;5;124mv\u001B[39m\u001B[38;5;124m'\u001B[39m: ([\u001B[38;5;124m'\u001B[39m\u001B[38;5;124mdate\u001B[39m\u001B[38;5;124m'\u001B[39m, \u001B[38;5;124m'\u001B[39m\u001B[38;5;124mlevel\u001B[39m\u001B[38;5;124m'\u001B[39m, \u001B[38;5;124m'\u001B[39m\u001B[38;5;124mlat\u001B[39m\u001B[38;5;124m'\u001B[39m, \u001B[38;5;124m'\u001B[39m\u001B[38;5;124mlon\u001B[39m\u001B[38;5;124m'\u001B[39m], f_z300[\u001B[38;5;124m'\u001B[39m\u001B[38;5;124mv\u001B[39m\u001B[38;5;124m'\u001B[39m]\u001B[38;5;241m.\u001B[39mdata[:, np\u001B[38;5;241m.\u001B[39mnewaxis, :, :]), },\n\u001B[0;32m     19\u001B[0m     coords\u001B[38;5;241m=\u001B[39m{\u001B[38;5;124m'\u001B[39m\u001B[38;5;124mdate\u001B[39m\u001B[38;5;124m'\u001B[39m: pd\u001B[38;5;241m.\u001B[39mto_datetime(f_z300[\u001B[38;5;124m'\u001B[39m\u001B[38;5;124mdate\u001B[39m\u001B[38;5;124m'\u001B[39m], \u001B[38;5;28mformat\u001B[39m\u001B[38;5;241m=\u001B[39m\u001B[38;5;124m\"\u001B[39m\u001B[38;5;124m%\u001B[39m\u001B[38;5;124mY\u001B[39m\u001B[38;5;124m%\u001B[39m\u001B[38;5;124mm\u001B[39m\u001B[38;5;132;01m%d\u001B[39;00m\u001B[38;5;124m\"\u001B[39m),\n\u001B[0;32m     20\u001B[0m             \u001B[38;5;124m'\u001B[39m\u001B[38;5;124mlevel\u001B[39m\u001B[38;5;124m'\u001B[39m: [\u001B[38;5;241m300\u001B[39m],\n\u001B[0;32m     21\u001B[0m             \u001B[38;5;124m'\u001B[39m\u001B[38;5;124mlat\u001B[39m\u001B[38;5;124m'\u001B[39m: f_z300[\u001B[38;5;124m'\u001B[39m\u001B[38;5;124mlatitude\u001B[39m\u001B[38;5;124m'\u001B[39m]\u001B[38;5;241m.\u001B[39mdata,\n\u001B[0;32m     22\u001B[0m             \u001B[38;5;124m'\u001B[39m\u001B[38;5;124mlon\u001B[39m\u001B[38;5;124m'\u001B[39m: f_z300[\u001B[38;5;124m'\u001B[39m\u001B[38;5;124mlongitude\u001B[39m\u001B[38;5;124m'\u001B[39m]\u001B[38;5;241m.\u001B[39mdata})\n\u001B[0;32m     23\u001B[0m z300 \u001B[38;5;241m=\u001B[39m f_z300[\u001B[38;5;124m'\u001B[39m\u001B[38;5;124mz\u001B[39m\u001B[38;5;124m'\u001B[39m]\u001B[38;5;241m.\u001B[39msel(date\u001B[38;5;241m=\u001B[39m\u001B[38;5;124m'\u001B[39m\u001B[38;5;124m2014-11-01\u001B[39m\u001B[38;5;124m'\u001B[39m)\n\u001B[0;32m     24\u001B[0m z300 \u001B[38;5;241m=\u001B[39m z300\n",
      "File \u001B[1;32m~\\.conda\\envs\\Meteorological\\lib\\site-packages\\xarray\\core\\dataarray.py:718\u001B[0m, in \u001B[0;36mDataArray.data\u001B[1;34m(self)\u001B[0m\n\u001B[0;32m    706\u001B[0m \u001B[38;5;129m@property\u001B[39m\n\u001B[0;32m    707\u001B[0m \u001B[38;5;28;01mdef\u001B[39;00m \u001B[38;5;21mdata\u001B[39m(\u001B[38;5;28mself\u001B[39m) \u001B[38;5;241m-\u001B[39m\u001B[38;5;241m>\u001B[39m Any:\n\u001B[0;32m    708\u001B[0m \u001B[38;5;250m    \u001B[39m\u001B[38;5;124;03m\"\"\"\u001B[39;00m\n\u001B[0;32m    709\u001B[0m \u001B[38;5;124;03m    The DataArray's data as an array. The underlying array type\u001B[39;00m\n\u001B[0;32m    710\u001B[0m \u001B[38;5;124;03m    (e.g. dask, sparse, pint) is preserved.\u001B[39;00m\n\u001B[1;32m   (...)\u001B[0m\n\u001B[0;32m    716\u001B[0m \u001B[38;5;124;03m    DataArray.values\u001B[39;00m\n\u001B[0;32m    717\u001B[0m \u001B[38;5;124;03m    \"\"\"\u001B[39;00m\n\u001B[1;32m--> 718\u001B[0m     \u001B[38;5;28;01mreturn\u001B[39;00m \u001B[38;5;28;43mself\u001B[39;49m\u001B[38;5;241;43m.\u001B[39;49m\u001B[43mvariable\u001B[49m\u001B[38;5;241;43m.\u001B[39;49m\u001B[43mdata\u001B[49m\n",
      "File \u001B[1;32m~\\.conda\\envs\\Meteorological\\lib\\site-packages\\xarray\\core\\variable.py:435\u001B[0m, in \u001B[0;36mVariable.data\u001B[1;34m(self)\u001B[0m\n\u001B[0;32m    433\u001B[0m     \u001B[38;5;28;01mreturn\u001B[39;00m \u001B[38;5;28mself\u001B[39m\u001B[38;5;241m.\u001B[39m_data\n\u001B[0;32m    434\u001B[0m \u001B[38;5;28;01melif\u001B[39;00m \u001B[38;5;28misinstance\u001B[39m(\u001B[38;5;28mself\u001B[39m\u001B[38;5;241m.\u001B[39m_data, indexing\u001B[38;5;241m.\u001B[39mExplicitlyIndexed):\n\u001B[1;32m--> 435\u001B[0m     \u001B[38;5;28;01mreturn\u001B[39;00m \u001B[38;5;28;43mself\u001B[39;49m\u001B[38;5;241;43m.\u001B[39;49m\u001B[43m_data\u001B[49m\u001B[38;5;241;43m.\u001B[39;49m\u001B[43mget_duck_array\u001B[49m\u001B[43m(\u001B[49m\u001B[43m)\u001B[49m\n\u001B[0;32m    436\u001B[0m \u001B[38;5;28;01melse\u001B[39;00m:\n\u001B[0;32m    437\u001B[0m     \u001B[38;5;28;01mreturn\u001B[39;00m \u001B[38;5;28mself\u001B[39m\u001B[38;5;241m.\u001B[39mvalues\n",
      "File \u001B[1;32m~\\.conda\\envs\\Meteorological\\lib\\site-packages\\xarray\\core\\indexing.py:696\u001B[0m, in \u001B[0;36mMemoryCachedArray.get_duck_array\u001B[1;34m(self)\u001B[0m\n\u001B[0;32m    695\u001B[0m \u001B[38;5;28;01mdef\u001B[39;00m \u001B[38;5;21mget_duck_array\u001B[39m(\u001B[38;5;28mself\u001B[39m):\n\u001B[1;32m--> 696\u001B[0m     \u001B[38;5;28;43mself\u001B[39;49m\u001B[38;5;241;43m.\u001B[39;49m\u001B[43m_ensure_cached\u001B[49m\u001B[43m(\u001B[49m\u001B[43m)\u001B[49m\n\u001B[0;32m    697\u001B[0m     \u001B[38;5;28;01mreturn\u001B[39;00m \u001B[38;5;28mself\u001B[39m\u001B[38;5;241m.\u001B[39marray\u001B[38;5;241m.\u001B[39mget_duck_array()\n",
      "File \u001B[1;32m~\\.conda\\envs\\Meteorological\\lib\\site-packages\\xarray\\core\\indexing.py:690\u001B[0m, in \u001B[0;36mMemoryCachedArray._ensure_cached\u001B[1;34m(self)\u001B[0m\n\u001B[0;32m    689\u001B[0m \u001B[38;5;28;01mdef\u001B[39;00m \u001B[38;5;21m_ensure_cached\u001B[39m(\u001B[38;5;28mself\u001B[39m):\n\u001B[1;32m--> 690\u001B[0m     \u001B[38;5;28mself\u001B[39m\u001B[38;5;241m.\u001B[39marray \u001B[38;5;241m=\u001B[39m as_indexable(\u001B[38;5;28;43mself\u001B[39;49m\u001B[38;5;241;43m.\u001B[39;49m\u001B[43marray\u001B[49m\u001B[38;5;241;43m.\u001B[39;49m\u001B[43mget_duck_array\u001B[49m\u001B[43m(\u001B[49m\u001B[43m)\u001B[49m)\n",
      "File \u001B[1;32m~\\.conda\\envs\\Meteorological\\lib\\site-packages\\xarray\\core\\indexing.py:664\u001B[0m, in \u001B[0;36mCopyOnWriteArray.get_duck_array\u001B[1;34m(self)\u001B[0m\n\u001B[0;32m    663\u001B[0m \u001B[38;5;28;01mdef\u001B[39;00m \u001B[38;5;21mget_duck_array\u001B[39m(\u001B[38;5;28mself\u001B[39m):\n\u001B[1;32m--> 664\u001B[0m     \u001B[38;5;28;01mreturn\u001B[39;00m \u001B[38;5;28;43mself\u001B[39;49m\u001B[38;5;241;43m.\u001B[39;49m\u001B[43marray\u001B[49m\u001B[38;5;241;43m.\u001B[39;49m\u001B[43mget_duck_array\u001B[49m\u001B[43m(\u001B[49m\u001B[43m)\u001B[49m\n",
      "File \u001B[1;32m~\\.conda\\envs\\Meteorological\\lib\\site-packages\\xarray\\core\\indexing.py:551\u001B[0m, in \u001B[0;36mLazilyIndexedArray.get_duck_array\u001B[1;34m(self)\u001B[0m\n\u001B[0;32m    550\u001B[0m \u001B[38;5;28;01mdef\u001B[39;00m \u001B[38;5;21mget_duck_array\u001B[39m(\u001B[38;5;28mself\u001B[39m):\n\u001B[1;32m--> 551\u001B[0m     array \u001B[38;5;241m=\u001B[39m \u001B[38;5;28;43mself\u001B[39;49m\u001B[38;5;241;43m.\u001B[39;49m\u001B[43marray\u001B[49m\u001B[43m[\u001B[49m\u001B[38;5;28;43mself\u001B[39;49m\u001B[38;5;241;43m.\u001B[39;49m\u001B[43mkey\u001B[49m\u001B[43m]\u001B[49m\n\u001B[0;32m    552\u001B[0m     \u001B[38;5;66;03m# self.array[self.key] is now a numpy array when\u001B[39;00m\n\u001B[0;32m    553\u001B[0m     \u001B[38;5;66;03m# self.array is a BackendArray subclass\u001B[39;00m\n\u001B[0;32m    554\u001B[0m     \u001B[38;5;66;03m# and self.key is BasicIndexer((slice(None, None, None),))\u001B[39;00m\n\u001B[0;32m    555\u001B[0m     \u001B[38;5;66;03m# so we need the explicit check for ExplicitlyIndexed\u001B[39;00m\n\u001B[0;32m    556\u001B[0m     \u001B[38;5;28;01mif\u001B[39;00m \u001B[38;5;28misinstance\u001B[39m(array, ExplicitlyIndexed):\n",
      "File \u001B[1;32m~\\.conda\\envs\\Meteorological\\lib\\site-packages\\xarray\\backends\\netCDF4_.py:100\u001B[0m, in \u001B[0;36mNetCDF4ArrayWrapper.__getitem__\u001B[1;34m(self, key)\u001B[0m\n\u001B[0;32m     99\u001B[0m \u001B[38;5;28;01mdef\u001B[39;00m \u001B[38;5;21m__getitem__\u001B[39m(\u001B[38;5;28mself\u001B[39m, key):\n\u001B[1;32m--> 100\u001B[0m     \u001B[38;5;28;01mreturn\u001B[39;00m \u001B[43mindexing\u001B[49m\u001B[38;5;241;43m.\u001B[39;49m\u001B[43mexplicit_indexing_adapter\u001B[49m\u001B[43m(\u001B[49m\n\u001B[0;32m    101\u001B[0m \u001B[43m        \u001B[49m\u001B[43mkey\u001B[49m\u001B[43m,\u001B[49m\u001B[43m \u001B[49m\u001B[38;5;28;43mself\u001B[39;49m\u001B[38;5;241;43m.\u001B[39;49m\u001B[43mshape\u001B[49m\u001B[43m,\u001B[49m\u001B[43m \u001B[49m\u001B[43mindexing\u001B[49m\u001B[38;5;241;43m.\u001B[39;49m\u001B[43mIndexingSupport\u001B[49m\u001B[38;5;241;43m.\u001B[39;49m\u001B[43mOUTER\u001B[49m\u001B[43m,\u001B[49m\u001B[43m \u001B[49m\u001B[38;5;28;43mself\u001B[39;49m\u001B[38;5;241;43m.\u001B[39;49m\u001B[43m_getitem\u001B[49m\n\u001B[0;32m    102\u001B[0m \u001B[43m    \u001B[49m\u001B[43m)\u001B[49m\n",
      "File \u001B[1;32m~\\.conda\\envs\\Meteorological\\lib\\site-packages\\xarray\\core\\indexing.py:858\u001B[0m, in \u001B[0;36mexplicit_indexing_adapter\u001B[1;34m(key, shape, indexing_support, raw_indexing_method)\u001B[0m\n\u001B[0;32m    836\u001B[0m \u001B[38;5;250m\u001B[39m\u001B[38;5;124;03m\"\"\"Support explicit indexing by delegating to a raw indexing method.\u001B[39;00m\n\u001B[0;32m    837\u001B[0m \n\u001B[0;32m    838\u001B[0m \u001B[38;5;124;03mOuter and/or vectorized indexers are supported by indexing a second time\u001B[39;00m\n\u001B[1;32m   (...)\u001B[0m\n\u001B[0;32m    855\u001B[0m \u001B[38;5;124;03mIndexing result, in the form of a duck numpy-array.\u001B[39;00m\n\u001B[0;32m    856\u001B[0m \u001B[38;5;124;03m\"\"\"\u001B[39;00m\n\u001B[0;32m    857\u001B[0m raw_key, numpy_indices \u001B[38;5;241m=\u001B[39m decompose_indexer(key, shape, indexing_support)\n\u001B[1;32m--> 858\u001B[0m result \u001B[38;5;241m=\u001B[39m \u001B[43mraw_indexing_method\u001B[49m\u001B[43m(\u001B[49m\u001B[43mraw_key\u001B[49m\u001B[38;5;241;43m.\u001B[39;49m\u001B[43mtuple\u001B[49m\u001B[43m)\u001B[49m\n\u001B[0;32m    859\u001B[0m \u001B[38;5;28;01mif\u001B[39;00m numpy_indices\u001B[38;5;241m.\u001B[39mtuple:\n\u001B[0;32m    860\u001B[0m     \u001B[38;5;66;03m# index the loaded np.ndarray\u001B[39;00m\n\u001B[0;32m    861\u001B[0m     result \u001B[38;5;241m=\u001B[39m NumpyIndexingAdapter(result)[numpy_indices]\n",
      "File \u001B[1;32m~\\.conda\\envs\\Meteorological\\lib\\site-packages\\xarray\\backends\\netCDF4_.py:113\u001B[0m, in \u001B[0;36mNetCDF4ArrayWrapper._getitem\u001B[1;34m(self, key)\u001B[0m\n\u001B[0;32m    111\u001B[0m     \u001B[38;5;28;01mwith\u001B[39;00m \u001B[38;5;28mself\u001B[39m\u001B[38;5;241m.\u001B[39mdatastore\u001B[38;5;241m.\u001B[39mlock:\n\u001B[0;32m    112\u001B[0m         original_array \u001B[38;5;241m=\u001B[39m \u001B[38;5;28mself\u001B[39m\u001B[38;5;241m.\u001B[39mget_array(needs_lock\u001B[38;5;241m=\u001B[39m\u001B[38;5;28;01mFalse\u001B[39;00m)\n\u001B[1;32m--> 113\u001B[0m         array \u001B[38;5;241m=\u001B[39m \u001B[43mgetitem\u001B[49m\u001B[43m(\u001B[49m\u001B[43moriginal_array\u001B[49m\u001B[43m,\u001B[49m\u001B[43m \u001B[49m\u001B[43mkey\u001B[49m\u001B[43m)\u001B[49m\n\u001B[0;32m    114\u001B[0m \u001B[38;5;28;01mexcept\u001B[39;00m \u001B[38;5;167;01mIndexError\u001B[39;00m:\n\u001B[0;32m    115\u001B[0m     \u001B[38;5;66;03m# Catch IndexError in netCDF4 and return a more informative\u001B[39;00m\n\u001B[0;32m    116\u001B[0m     \u001B[38;5;66;03m# error message.  This is most often called when an unsorted\u001B[39;00m\n\u001B[0;32m    117\u001B[0m     \u001B[38;5;66;03m# indexer is used before the data is loaded from disk.\u001B[39;00m\n\u001B[0;32m    118\u001B[0m     msg \u001B[38;5;241m=\u001B[39m (\n\u001B[0;32m    119\u001B[0m         \u001B[38;5;124m\"\u001B[39m\u001B[38;5;124mThe indexing operation you are attempting to perform \u001B[39m\u001B[38;5;124m\"\u001B[39m\n\u001B[0;32m    120\u001B[0m         \u001B[38;5;124m\"\u001B[39m\u001B[38;5;124mis not valid on netCDF4.Variable object. Try loading \u001B[39m\u001B[38;5;124m\"\u001B[39m\n\u001B[0;32m    121\u001B[0m         \u001B[38;5;124m\"\u001B[39m\u001B[38;5;124myour data into memory first by calling .load().\u001B[39m\u001B[38;5;124m\"\u001B[39m\n\u001B[0;32m    122\u001B[0m     )\n",
      "\u001B[1;31mKeyboardInterrupt\u001B[0m: "
     ]
    }
   ],
   "execution_count": 2
  },
  {
   "metadata": {},
   "cell_type": "code",
   "outputs": [],
   "execution_count": null,
   "source": "waf_x, waf_y, stream = TN_WAF_3D(z_tmp, u_tmp, v_tmp, z300 - z_tmp, return_streamf=True, filt=0)\n",
   "id": "ad81c23b61dd7cf3"
  },
  {
   "metadata": {},
   "cell_type": "code",
   "outputs": [],
   "execution_count": null,
   "source": [
    "#以下为绘图部分\n",
    "fig = plt.figure(figsize=(12, 6), dpi=600)\n",
    "ax = fig.add_subplot(111, projection=ccrs.PlateCarree(central_longitude=180))\n",
    "ax.add_feature(cfeature.COASTLINE.with_scale('110m'), linewidth=0.2)\n",
    "WAF = Curlyquiver(ax, lon, lat, waf_x, waf_y, regrid=30, lon_trunc=0, arrowsize=1, scale=30, linewidth=1.4,\n",
    "              color='black', transform=ccrs.PlateCarree(central_longitude=0), mode='loose')\n",
    "WAF.key(fig, U=15, label='15 m$^2$/s$^2$', lr=1)\n",
    "#ax_q = ax.quiver(lon, lat, waf_x, waf_y, regrid_shape=20, transform=ccrs.PlateCarree(central_longitude=0),scale=300)\n",
    "ax_c = ax.contour(lon, lat, stream, levels=100, transform=ccrs.PlateCarree(central_longitude=0), colors='black')\n",
    "plt.show()"
   ],
   "id": "24075e2adff6186b"
  }
 ],
 "metadata": {
  "kernelspec": {
   "display_name": "Python 3",
   "language": "python",
   "name": "python3"
  },
  "language_info": {
   "codemirror_mode": {
    "name": "ipython",
    "version": 2
   },
   "file_extension": ".py",
   "mimetype": "text/x-python",
   "name": "python",
   "nbconvert_exporter": "python",
   "pygments_lexer": "ipython2",
   "version": "2.7.6"
  }
 },
 "nbformat": 4,
 "nbformat_minor": 5
}
