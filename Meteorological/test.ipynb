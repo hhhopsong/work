{
 "cells": [
  {
   "metadata": {
    "ExecuteTime": {
     "end_time": "2024-11-26T01:54:56.318206Z",
     "start_time": "2024-11-26T01:54:09.182082Z"
    }
   },
   "cell_type": "code",
   "source": [
    "from toolbar.TN_WaveActivityFlux import TN_WAF_3D\n",
    "from toolbar.curved_quivers.modplot import Curlyquiver\n",
    "import numpy as np\n",
    "import matplotlib.pyplot as plt\n",
    "import xarray as xr\n",
    "import pandas as pd\n",
    "import cartopy.crs as ccrs\n",
    "import cartopy.feature as cfeature\n",
    "from toolbar.masked import masked   # 气象工具函数\n",
    "from toolbar.pre_whitening import ws2001\n",
    "import pandas as pd\n",
    "import tqdm\n",
    "\n",
    "#以下为数据读取部分，最终所得z300，u300，v300为2014年11月的300hPa位势高度场，UV风场的月平均；\n",
    "#z_tmp，u_tmp，v_tmp为1979-2018年11月的气候态；\n",
    "#所有数据来自ECMWF的ERA-Interim数据集\n",
    "data_year = ['1961', '2022']\n",
    "CN051_1 = xr.open_dataset(r\"E:\\data\\CN05.1\\1961_2021\\CN05.1_Tmax_1961_2021_daily_025x025.nc\")\n",
    "CN051_2 = xr.open_dataset(r\"E:\\data\\CN05.1\\2022\\CN05.1_Tmax_2022_daily_025x025.nc\")\n",
    "Tmax_cn051 = xr.concat([CN051_1, CN051_2], dim='time').sel(time=slice(data_year[0]+'-01-01', data_year[1]+'-12-31'))\n",
    "Tmax_cn051 = Tmax_cn051.sel(time=Tmax_cn051['time.month'].isin([6, 7, 8]))\n",
    "lon = Tmax_cn051['lon']\n",
    "lat = Tmax_cn051['lat']\n",
    "\n",
    "time_series = np.zeros((len(Tmax_cn051['time'].groupby('time.year')), 92))\n",
    "s_series = np.zeros((len(Tmax_cn051['time'].groupby('time.year')), 92))\n",
    "power_series = np.zeros((len(Tmax_cn051['time'].groupby('time.year')), 92))\n",
    "station_num = masked((Tmax_cn051-Tmax_cn051+1).sel(time='2022-07-01'), r\"D:\\PyFile\\map\\地图边界数据\\长江区1：25万界线数据集（2002年）\\长江区.shp\")['tmax']  # 掩膜处理得长江流域站点数\n",
    "station_num = station_num.sum()  # 长江流域格点数"
   ],
   "id": "70fdb06184f58284",
   "outputs": [
    {
     "name": "stderr",
     "output_type": "stream",
     "text": [
      "C:\\Users\\86136\\.conda\\envs\\Meteorological\\lib\\site-packages\\xarray\\coding\\times.py:154: SerializationWarning: Ambiguous reference date string: 1-1-1 00:00:00. The first value is assumed to be the year hence will be padded with zeros to remove the ambiguity (the padded reference date string is: 0001-1-1 00:00:00). To remove this message, remove the ambiguity by padding your reference date strings with zeros.\n",
      "  warnings.warn(warning_msg, SerializationWarning)\n"
     ]
    }
   ],
   "execution_count": 16
  },
  {
   "metadata": {},
   "cell_type": "code",
   "outputs": [],
   "execution_count": null,
   "source": "",
   "id": "e14609793dc9fc89"
  },
  {
   "metadata": {
    "ExecuteTime": {
     "end_time": "2024-11-26T07:23:45.785254Z",
     "start_time": "2024-11-26T07:21:49.074106Z"
    }
   },
   "cell_type": "code",
   "source": [
    "YR_Tmax = masked(Tmax_cn051, r\"D:\\PyFile\\map\\地图边界数据\\长江区1：25万界线数据集（2002年）\\长江区.shp\")\n",
    "for iyear in tqdm.trange(1961, 1961+len(time_series)):\n",
    "    time_continue = np.zeros((YR_Tmax['tmax'].shape[1], YR_Tmax['tmax'].shape[2]))  #   时间持续系数\n",
    "    # 判断闰年\n",
    "    if iyear % 400 == 0:\n",
    "        leap_year = 1\n",
    "    elif iyear % 4 == 0 and iyear % 100!= 0:\n",
    "        leap_year = 1\n",
    "    else:\n",
    "        leap_year = 0\n",
    "    for iday in range(92):\n",
    "        iYR_Tmax = YR_Tmax.sel(time=YR_Tmax['time.year'].isin([iyear]))\n",
    "        iYR_Tmax = iYR_Tmax.sel(time=iYR_Tmax['time.dayofyear'].isin([iday+leap_year+152]))\n",
    "        iYR_Tmax = iYR_Tmax - 34.  # 减去34℃(阈值为35)\n",
    "        time_continue = np.where(np.isnan(time_continue), 0, time_continue)  #   时间持续系数初始化\n",
    "        time_continue += iYR_Tmax.where(iYR_Tmax >= 1., np.nan).where(iYR_Tmax < 1., 1)['tmax'][0] #   时间持续系数\n",
    "        time_series[iyear-1961, iday] = np.nansum(time_continue)  #   时间持续系数\n",
    "        S_index = iYR_Tmax.where(iYR_Tmax >= 1., 0).where(iYR_Tmax < 1., 1)['tmax'][0].sum() / station_num  #  面积覆盖系数\n",
    "        s_series[iyear-1961, iday] = S_index  #   面积覆盖系数\n",
    "        power = iYR_Tmax.where(iYR_Tmax >= 1., np.nan)['tmax'][0]  #   高温强度系数  # 大于35℃的置为1，小于35℃的置为nan\n",
    "        power_series[iyear-1961, iday] = np.nansum(power) #   高温强度系数"
   ],
   "id": "1160aedfcff040e0",
   "outputs": [
    {
     "name": "stderr",
     "output_type": "stream",
     "text": [
      "100%|██████████| 62/62 [01:54<00:00,  1.85s/it]\n"
     ]
    }
   ],
   "execution_count": 38
  },
  {
   "metadata": {
    "ExecuteTime": {
     "end_time": "2024-11-26T02:13:34.112516Z",
     "start_time": "2024-11-26T02:13:34.088989Z"
    }
   },
   "cell_type": "code",
   "source": [
    "ols = np.load(r\"D:\\PyFile\\paper1\\OLS35.npy\")\n",
    "np.corrcoef(time_series.mean(axis=1)+power_series.mean(axis=1), s_series.mean(axis=1))"
   ],
   "id": "fc2bb02fb7524018",
   "outputs": [
    {
     "data": {
      "text/plain": [
       "array([[1.        , 0.97233327],\n",
       "       [0.97233327, 1.        ]])"
      ]
     },
     "execution_count": 37,
     "metadata": {},
     "output_type": "execute_result"
    }
   ],
   "execution_count": 37
  },
  {
   "metadata": {},
   "cell_type": "code",
   "outputs": [],
   "execution_count": null,
   "source": [
    "def plot_waf(location, z):\n",
    "    sub_ax = fig.add_subplot(location, projection=ccrs.PlateCarree(central_longitude=180))\n",
    "    waf_x, waf_y = TN_WAF_3D(z_clim, u_clim, v_clim, z - z_clim, filt=1, filtmode='mix')\n",
    "    # 生成20个等高线\n",
    "    level = np.linspace(-np.nanmax(np.abs((z - z_clim).sel(level=200))),\n",
    "                        np.nanmax(np.abs((z - z_clim).sel(level=200))), 21)\n",
    "    sub_ax.contour(lon, lat, (z - z_clim).sel(level=200), levels=level, transform=ccrs.PlateCarree(central_longitude=0), colors='white', linewidth=0.3)\n",
    "    sub_ax.contourf(lon, lat, (z - z_clim).sel(level=200), levels=level, transform=ccrs.PlateCarree(central_longitude=0), cmap='coolwarm')\n",
    "    WAF = Curlyquiver(sub_ax, lon, lat, waf_x, waf_y, regrid=30, lon_trunc=0, arrowsize=1.3, scale=100, linewidth=1.3,\n",
    "                  color='black', transform=ccrs.PlateCarree(central_longitude=0), mode='loose')\n",
    "    WAF.key(fig, U=.5, label='0.5 m$^2$/s$^2$', lr=1)\n",
    "    sub_ax.coastlines()\n",
    "#以下为绘图部分\n",
    "fig = plt.figure(figsize=(10, 10), dpi=600)\n",
    "# 画出2000年夏季6-8月平均的WAF\n",
    "z300 = era5['z'].sel(date=era5['date.year'].isin([2000])).mean(dim='date')\n",
    "plot_waf(111, z300)\n",
    "plt.show()"
   ],
   "id": "39fa7d034e3bbf12"
  }
 ],
 "metadata": {
  "kernelspec": {
   "display_name": "Python 3",
   "language": "python",
   "name": "python3"
  },
  "language_info": {
   "codemirror_mode": {
    "name": "ipython",
    "version": 2
   },
   "file_extension": ".py",
   "mimetype": "text/x-python",
   "name": "python",
   "nbconvert_exporter": "python",
   "pygments_lexer": "ipython2",
   "version": "2.7.6"
  }
 },
 "nbformat": 4,
 "nbformat_minor": 5
}
