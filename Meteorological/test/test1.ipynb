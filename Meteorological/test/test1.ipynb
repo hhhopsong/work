{
 "cells": [
  {
   "cell_type": "code",
   "id": "15279073663383e0",
   "metadata": {
    "ExecuteTime": {
     "end_time": "2024-12-13T01:48:41.392470Z",
     "start_time": "2024-12-13T01:48:39.375775Z"
    }
   },
   "source": [
    "import pandas as pd\n",
    "from cartopy import crs as ccrs\n",
    "import cartopy.feature as cfeature\n",
    "from cartopy.io.shapereader import Reader\n",
    "from cartopy.mpl.ticker import LongitudeFormatter, LatitudeFormatter  # 专门提供经纬度的\n",
    "from cartopy.util import add_cyclic_point\n",
    "import numpy as np\n",
    "import xarray as xr\n",
    "import matplotlib.pyplot as plt\n",
    "import matplotlib.transforms as mtransforms\n",
    "import matplotlib.patheffects as path_effects\n",
    "import matplotlib.path as mpath\n",
    "from cnmaps import get_adm_maps, draw_maps\n",
    "from matplotlib import ticker\n",
    "import cmaps\n",
    "from matplotlib.ticker import MultipleLocator, FixedLocator\n",
    "from eofs.standard import Eof\n",
    "from scipy.ndimage import filters\n",
    "from tqdm import tqdm\n",
    "import geopandas as gpd\n",
    "import salem\n",
    "from toolbar.TN_WaveActivityFlux import TN_WAF_3D, TN_WAF\n",
    "from toolbar.curved_quivers.modplot import Curlyquiver\n",
    "import pprint\n",
    "\n",
    "\n",
    "# 数据读取\n",
    "year = [1961, 2022]\n",
    "try:\n",
    "    # 读取相关系数\n",
    "    sat = xr.open_dataset(r'D:\\PyFile\\paper1\\cache\\reg_lbm\\sat.nc')\n",
    "    sst = xr.open_dataset(r\"E:\\data\\NOAA\\ERSSTv5\\sst.mnmean.nc\")\n",
    "    wh = xr.open_dataset(r'D:\\PyFile\\paper1\\cache\\reg_lbm\\wh.nc')\n",
    "    gpcp = xr.open_dataset(r'D:\\PyFile\\paper1\\cache\\reg_lbm\\gpcp.nc')\n",
    "    olr = xr.open_dataset(r\"D:\\PyFile\\paper1\\cache\\olr\\olr_same.nc\")\n",
    "except:\n",
    "    # 读取数据\n",
    "    sat = xr.open_dataset(r\"E:\\data\\ERA5\\ERA5_singleLev\\ERA5_sgLEv.nc\")\n",
    "    sst = xr.open_dataset(r\"E:\\data\\NOAA\\ERSSTv5\\sst.mnmean.nc\")\n",
    "    wh = xr.open_dataset(r\"E:\\data\\ERA5\\ERA5_pressLev\\era5_pressLev.nc\")\n",
    "    gpcp = xr.open_dataset(r\"E:\\data\\NOAA\\PREC\\precip.mon.anom.nc\")\n",
    "    olr = xr.open_dataset(r\"D:\\PyFile\\paper1\\cache\\olr\\olr_same.nc\")\n",
    "    # 数据描述信息修改\n",
    "    change = sat.sel(   date=slice(str(year[0] - 1) + '-01-01', str(year[1] + 1) + '-12-31'),\n",
    "                        latitude=[90 - i * 0.5 for i in range(361)], longitude=[i * 0.5 for i in range(720)])['t2m']\n",
    "    sat = xr.DataArray(change.data, coords=[('time', pd.to_datetime(change['date'], format=\"%Y%m%d\")),\n",
    "                                            ('lat', change['latitude'].data),\n",
    "                                            ('lon', change['longitude'].data)]).to_dataset(name='t2m')\n",
    "    sst = sst.sel(  time=slice(str(year[0] - 1) + '-01-01', str(year[1] + 1) + '-12-31'),\n",
    "                    latitude=[90 - i * 2 for i in range(89)], longitude=[i * 2 for i in range(180)])['sst']\n",
    "    change_u = wh.sel(   date=slice(str(year[0] - 1) + '-01-01', str(year[1] + 1) + '-12-31'),\n",
    "                         pressure_level=[200, 300, 400, 500, 600, 700, 850],\n",
    "                        latitude=[90 - i * 0.5 for i in range(361)], longitude=[i * 0.5 for i in range(720)])['u']\n",
    "    change_v = wh.sel(   date=slice(str(year[0] - 1) + '-01-01', str(year[1] + 1) + '-12-31'),\n",
    "                         pressure_level=[200, 300, 400, 500, 600, 700, 850],\n",
    "                        latitude=[90 - i * 0.5 for i in range(361)], longitude=[i * 0.5 for i in range(720)])['v']\n",
    "    change_z = wh.sel(   date=slice(str(year[0] - 1) + '-01-01', str(year[1] + 1) + '-12-31'),\n",
    "                         pressure_level=[200, 300, 400, 500, 600, 700, 850],\n",
    "                        latitude=[90 - i * 0.5 for i in range(361)], longitude=[i * 0.5 for i in range(720)])['z']\n",
    "    wh = xr.Dataset({  'u': (['time', 'level', 'lat', 'lon'], change_u.data),\n",
    "                                'v': (['time', 'level', 'lat', 'lon'], change_v.data),\n",
    "                                'z': (['time', 'level', 'lat', 'lon'], change_z.data)},\n",
    "                      coords={  'time': pd.to_datetime(change_u['date'], format=\"%Y%m%d\"),\n",
    "                                'level': change_u['pressure_level'].data,\n",
    "                                'lat': change_u['latitude'].data,\n",
    "                                'lon': change_u['longitude'].data})\n",
    "    sat.to_netcdf(r'D:\\PyFile\\paper1\\cache\\reg_lbm\\sat.nc')\n",
    "    wh.to_netcdf(r'D:\\PyFile\\paper1\\cache\\reg_lbm\\wh.nc')\n",
    "    gpcp.to_netcdf(r'D:\\PyFile\\paper1\\cache\\reg_lbm\\gpcp.nc')\n",
    "# 数据切片\n",
    "olr = olr['olr']\n",
    "pre = gpcp['precip'].sel(time=slice(f'{year[0]}-01-01', f'{year[1]}-12-31'))\n",
    "pre = pre.sel(time=pre.time.dt.month.isin([7, 8]))\n",
    "sst = sst['sst'].sel(time=slice(f'{year[0]}-01-01', f'{year[1]}-12-31'))\n",
    "sst = sst.sel(time=sst.time.dt.month.isin([7, 8]))\n",
    "T2m = sat['t2m'].sel(time=slice(f'{year[0]}-01-01', f'{year[1]}-12-31'))\n",
    "T2m_78 = T2m.sel(time=T2m.time.dt.month.isin([7, 8]))\n",
    "# 经纬度\n",
    "lon_pre = pre['lon']\n",
    "lat_pre = pre['lat']\n",
    "lon_sst = sst['lon']\n",
    "lat_sst = sst['lat']\n",
    "lon_t2m = T2m['lon']\n",
    "lat_t2m = T2m['lat']\n",
    "lon_olr = olr['lon']\n",
    "lat_olr = olr['lat']\n",
    "\n",
    "# 将七八月份数据进行每年平均\n",
    "lon1, lon2, lat1, lat2 = 40, 82.5, 50, 72\n",
    "sat_78 = T2m_78.groupby('time.year').mean('time')\n",
    "sat_78 = sat_78.sel(lat=slice(lat2, lat1), lon=slice(lon1, lon2))\n",
    "sat_78 = sat_78.mean(['lat', 'lon'])\n",
    "sat_78 = np.array(sat_78)\n",
    "sat_detrend = np.polyfit(np.arange(len(sat_78)), sat_78[:],1)\n",
    "sat_detrend = np.polyval(sat_detrend, np.arange(len(sat_78)))\n",
    "sat_78 = sat_78 - sat_detrend\n",
    "pre_78 = pre.groupby('time.year').mean('time')\n",
    "sst_78 = sst.groupby('time.year').mean('time')\n",
    "t2m_78 = T2m.groupby('time.year').mean('time')\n",
    "pre_78 = np.array(pre_78)\n",
    "sst_78 = np.array(sst_78)\n",
    "t2m_78 = np.array(t2m_78)\n",
    "olr_78 = np.array(olr)"
   ],
   "outputs": [],
   "execution_count": 18
  },
  {
   "metadata": {
    "ExecuteTime": {
     "end_time": "2024-12-13T01:53:09.436221Z",
     "start_time": "2024-12-13T01:53:07.789845Z"
    }
   },
   "cell_type": "code",
   "source": [
    "reg_sst = [[np.polyfit(sat_78[:], sst_78[:, ilat, ilon], 1)[0] if not np.isnan(sst_78[:, ilat, ilon]).any() else np.nan for ilon in range(len(lon_sst))] for ilat in tqdm(range(len(lat_sst)), desc='计算LBM 2mT sst', position=0, leave=True)]\n",
    "xr.DataArray(reg_sst, coords=[lat_sst, lon_sst], dims=['lat', 'lon']).to_netcdf(r'D:\\PyFile\\paper1\\cache\\reg_lbm\\reg_lbm_t2m_sst.nc')"
   ],
   "id": "1a269054f6df49c2",
   "outputs": [
    {
     "name": "stderr",
     "output_type": "stream",
     "text": [
      "计算LBM 2mT sst: 100%|██████████| 89/89 [00:00<00:00, 137.13it/s]\n",
      "计算LBM 2mT sst:   0%|          | 0/89 [05:09<?, ?it/s]\n",
      "计算LBM 2mT sst:   0%|          | 0/89 [05:05<?, ?it/s]\n",
      "计算LBM 2mT sst:   0%|          | 0/89 [05:03<?, ?it/s]\n",
      "计算LBM 2mT sst:   3%|▎         | 3/89 [04:14<2:01:25, 84.71s/it]\n",
      "计算LBM 2mT sst:   3%|▎         | 3/89 [04:12<2:00:37, 84.16s/it]\n",
      "计算LBM 2mT sst:   3%|▎         | 3/89 [04:11<2:00:13, 83.87s/it]\n",
      "计算LBM 2mT sst:   3%|▎         | 3/89 [04:11<1:59:55, 83.67s/it]\n",
      "计算LBM 2mT sst:   3%|▎         | 3/89 [00:42<20:26, 14.26s/it]\n"
     ]
    },
    {
     "ename": "PermissionError",
     "evalue": "[Errno 13] Permission denied: 'D:\\\\PyFile\\\\paper1\\\\cache\\\\reg_lbm\\\\reg_lbm_t2m_sst.nc'",
     "output_type": "error",
     "traceback": [
      "\u001B[1;31m---------------------------------------------------------------------------\u001B[0m",
      "\u001B[1;31mKeyError\u001B[0m                                  Traceback (most recent call last)",
      "File \u001B[1;32m~\\.conda\\envs\\Meteorological\\lib\\site-packages\\xarray\\backends\\file_manager.py:211\u001B[0m, in \u001B[0;36mCachingFileManager._acquire_with_cache_info\u001B[1;34m(self, needs_lock)\u001B[0m\n\u001B[0;32m    210\u001B[0m \u001B[38;5;28;01mtry\u001B[39;00m:\n\u001B[1;32m--> 211\u001B[0m     file \u001B[38;5;241m=\u001B[39m \u001B[38;5;28;43mself\u001B[39;49m\u001B[38;5;241;43m.\u001B[39;49m\u001B[43m_cache\u001B[49m\u001B[43m[\u001B[49m\u001B[38;5;28;43mself\u001B[39;49m\u001B[38;5;241;43m.\u001B[39;49m\u001B[43m_key\u001B[49m\u001B[43m]\u001B[49m\n\u001B[0;32m    212\u001B[0m \u001B[38;5;28;01mexcept\u001B[39;00m \u001B[38;5;167;01mKeyError\u001B[39;00m:\n",
      "File \u001B[1;32m~\\.conda\\envs\\Meteorological\\lib\\site-packages\\xarray\\backends\\lru_cache.py:56\u001B[0m, in \u001B[0;36mLRUCache.__getitem__\u001B[1;34m(self, key)\u001B[0m\n\u001B[0;32m     55\u001B[0m \u001B[38;5;28;01mwith\u001B[39;00m \u001B[38;5;28mself\u001B[39m\u001B[38;5;241m.\u001B[39m_lock:\n\u001B[1;32m---> 56\u001B[0m     value \u001B[38;5;241m=\u001B[39m \u001B[38;5;28;43mself\u001B[39;49m\u001B[38;5;241;43m.\u001B[39;49m\u001B[43m_cache\u001B[49m\u001B[43m[\u001B[49m\u001B[43mkey\u001B[49m\u001B[43m]\u001B[49m\n\u001B[0;32m     57\u001B[0m     \u001B[38;5;28mself\u001B[39m\u001B[38;5;241m.\u001B[39m_cache\u001B[38;5;241m.\u001B[39mmove_to_end(key)\n",
      "\u001B[1;31mKeyError\u001B[0m: [<class 'netCDF4._netCDF4.Dataset'>, ('D:\\\\PyFile\\\\paper1\\\\cache\\\\reg_lbm\\\\reg_lbm_t2m_sst.nc',), 'a', (('clobber', True), ('diskless', False), ('format', 'NETCDF4'), ('persist', False)), 'e0ec83b5-f58b-45b3-b7b0-1ecb2246f0b1']",
      "\nDuring handling of the above exception, another exception occurred:\n",
      "\u001B[1;31mPermissionError\u001B[0m                           Traceback (most recent call last)",
      "Cell \u001B[1;32mIn[29], line 2\u001B[0m\n\u001B[0;32m      1\u001B[0m reg_sst \u001B[38;5;241m=\u001B[39m [[np\u001B[38;5;241m.\u001B[39mpolyfit(sat_78[:], sst_78[:, ilat, ilon], \u001B[38;5;241m1\u001B[39m)[\u001B[38;5;241m0\u001B[39m] \u001B[38;5;28;01mif\u001B[39;00m \u001B[38;5;129;01mnot\u001B[39;00m np\u001B[38;5;241m.\u001B[39misnan(sst_78[:, ilat, ilon])\u001B[38;5;241m.\u001B[39many() \u001B[38;5;28;01melse\u001B[39;00m np\u001B[38;5;241m.\u001B[39mnan \u001B[38;5;28;01mfor\u001B[39;00m ilon \u001B[38;5;129;01min\u001B[39;00m \u001B[38;5;28mrange\u001B[39m(\u001B[38;5;28mlen\u001B[39m(lon_sst))] \u001B[38;5;28;01mfor\u001B[39;00m ilat \u001B[38;5;129;01min\u001B[39;00m tqdm(\u001B[38;5;28mrange\u001B[39m(\u001B[38;5;28mlen\u001B[39m(lat_sst)), desc\u001B[38;5;241m=\u001B[39m\u001B[38;5;124m'\u001B[39m\u001B[38;5;124m计算LBM 2mT sst\u001B[39m\u001B[38;5;124m'\u001B[39m, position\u001B[38;5;241m=\u001B[39m\u001B[38;5;241m0\u001B[39m, leave\u001B[38;5;241m=\u001B[39m\u001B[38;5;28;01mTrue\u001B[39;00m)]\n\u001B[1;32m----> 2\u001B[0m \u001B[43mxr\u001B[49m\u001B[38;5;241;43m.\u001B[39;49m\u001B[43mDataArray\u001B[49m\u001B[43m(\u001B[49m\u001B[43mreg_sst\u001B[49m\u001B[43m,\u001B[49m\u001B[43m \u001B[49m\u001B[43mcoords\u001B[49m\u001B[38;5;241;43m=\u001B[39;49m\u001B[43m[\u001B[49m\u001B[43mlat_sst\u001B[49m\u001B[43m,\u001B[49m\u001B[43m \u001B[49m\u001B[43mlon_sst\u001B[49m\u001B[43m]\u001B[49m\u001B[43m,\u001B[49m\u001B[43m \u001B[49m\u001B[43mdims\u001B[49m\u001B[38;5;241;43m=\u001B[39;49m\u001B[43m[\u001B[49m\u001B[38;5;124;43m'\u001B[39;49m\u001B[38;5;124;43mlat\u001B[39;49m\u001B[38;5;124;43m'\u001B[39;49m\u001B[43m,\u001B[49m\u001B[43m \u001B[49m\u001B[38;5;124;43m'\u001B[39;49m\u001B[38;5;124;43mlon\u001B[39;49m\u001B[38;5;124;43m'\u001B[39;49m\u001B[43m]\u001B[49m\u001B[43m)\u001B[49m\u001B[38;5;241;43m.\u001B[39;49m\u001B[43mto_netcdf\u001B[49m\u001B[43m(\u001B[49m\u001B[38;5;124;43mr\u001B[39;49m\u001B[38;5;124;43m'\u001B[39;49m\u001B[38;5;124;43mD:\u001B[39;49m\u001B[38;5;124;43m\\\u001B[39;49m\u001B[38;5;124;43mPyFile\u001B[39;49m\u001B[38;5;124;43m\\\u001B[39;49m\u001B[38;5;124;43mpaper1\u001B[39;49m\u001B[38;5;124;43m\\\u001B[39;49m\u001B[38;5;124;43mcache\u001B[39;49m\u001B[38;5;124;43m\\\u001B[39;49m\u001B[38;5;124;43mreg_lbm\u001B[39;49m\u001B[38;5;124;43m\\\u001B[39;49m\u001B[38;5;124;43mreg_lbm_t2m_sst.nc\u001B[39;49m\u001B[38;5;124;43m'\u001B[39;49m\u001B[43m)\u001B[49m\n",
      "File \u001B[1;32m~\\.conda\\envs\\Meteorological\\lib\\site-packages\\xarray\\core\\dataarray.py:3978\u001B[0m, in \u001B[0;36mDataArray.to_netcdf\u001B[1;34m(self, path, mode, format, group, engine, encoding, unlimited_dims, compute, invalid_netcdf)\u001B[0m\n\u001B[0;32m   3974\u001B[0m \u001B[38;5;28;01melse\u001B[39;00m:\n\u001B[0;32m   3975\u001B[0m     \u001B[38;5;66;03m# No problems with the name - so we're fine!\u001B[39;00m\n\u001B[0;32m   3976\u001B[0m     dataset \u001B[38;5;241m=\u001B[39m \u001B[38;5;28mself\u001B[39m\u001B[38;5;241m.\u001B[39mto_dataset()\n\u001B[1;32m-> 3978\u001B[0m \u001B[38;5;28;01mreturn\u001B[39;00m \u001B[43mto_netcdf\u001B[49m\u001B[43m(\u001B[49m\u001B[43m  \u001B[49m\u001B[38;5;66;43;03m# type: ignore  # mypy cannot resolve the overloads:(\u001B[39;49;00m\n\u001B[0;32m   3979\u001B[0m \u001B[43m    \u001B[49m\u001B[43mdataset\u001B[49m\u001B[43m,\u001B[49m\n\u001B[0;32m   3980\u001B[0m \u001B[43m    \u001B[49m\u001B[43mpath\u001B[49m\u001B[43m,\u001B[49m\n\u001B[0;32m   3981\u001B[0m \u001B[43m    \u001B[49m\u001B[43mmode\u001B[49m\u001B[38;5;241;43m=\u001B[39;49m\u001B[43mmode\u001B[49m\u001B[43m,\u001B[49m\n\u001B[0;32m   3982\u001B[0m \u001B[43m    \u001B[49m\u001B[38;5;28;43mformat\u001B[39;49m\u001B[38;5;241;43m=\u001B[39;49m\u001B[38;5;28;43mformat\u001B[39;49m\u001B[43m,\u001B[49m\n\u001B[0;32m   3983\u001B[0m \u001B[43m    \u001B[49m\u001B[43mgroup\u001B[49m\u001B[38;5;241;43m=\u001B[39;49m\u001B[43mgroup\u001B[49m\u001B[43m,\u001B[49m\n\u001B[0;32m   3984\u001B[0m \u001B[43m    \u001B[49m\u001B[43mengine\u001B[49m\u001B[38;5;241;43m=\u001B[39;49m\u001B[43mengine\u001B[49m\u001B[43m,\u001B[49m\n\u001B[0;32m   3985\u001B[0m \u001B[43m    \u001B[49m\u001B[43mencoding\u001B[49m\u001B[38;5;241;43m=\u001B[39;49m\u001B[43mencoding\u001B[49m\u001B[43m,\u001B[49m\n\u001B[0;32m   3986\u001B[0m \u001B[43m    \u001B[49m\u001B[43munlimited_dims\u001B[49m\u001B[38;5;241;43m=\u001B[39;49m\u001B[43munlimited_dims\u001B[49m\u001B[43m,\u001B[49m\n\u001B[0;32m   3987\u001B[0m \u001B[43m    \u001B[49m\u001B[43mcompute\u001B[49m\u001B[38;5;241;43m=\u001B[39;49m\u001B[43mcompute\u001B[49m\u001B[43m,\u001B[49m\n\u001B[0;32m   3988\u001B[0m \u001B[43m    \u001B[49m\u001B[43mmultifile\u001B[49m\u001B[38;5;241;43m=\u001B[39;49m\u001B[38;5;28;43;01mFalse\u001B[39;49;00m\u001B[43m,\u001B[49m\n\u001B[0;32m   3989\u001B[0m \u001B[43m    \u001B[49m\u001B[43minvalid_netcdf\u001B[49m\u001B[38;5;241;43m=\u001B[39;49m\u001B[43minvalid_netcdf\u001B[49m\u001B[43m,\u001B[49m\n\u001B[0;32m   3990\u001B[0m \u001B[43m\u001B[49m\u001B[43m)\u001B[49m\n",
      "File \u001B[1;32m~\\.conda\\envs\\Meteorological\\lib\\site-packages\\xarray\\backends\\api.py:1255\u001B[0m, in \u001B[0;36mto_netcdf\u001B[1;34m(dataset, path_or_file, mode, format, group, engine, encoding, unlimited_dims, compute, multifile, invalid_netcdf)\u001B[0m\n\u001B[0;32m   1251\u001B[0m     \u001B[38;5;28;01melse\u001B[39;00m:\n\u001B[0;32m   1252\u001B[0m         \u001B[38;5;28;01mraise\u001B[39;00m \u001B[38;5;167;01mValueError\u001B[39;00m(\n\u001B[0;32m   1253\u001B[0m             \u001B[38;5;124mf\u001B[39m\u001B[38;5;124m\"\u001B[39m\u001B[38;5;124munrecognized option \u001B[39m\u001B[38;5;124m'\u001B[39m\u001B[38;5;124minvalid_netcdf\u001B[39m\u001B[38;5;124m'\u001B[39m\u001B[38;5;124m for engine \u001B[39m\u001B[38;5;132;01m{\u001B[39;00mengine\u001B[38;5;132;01m}\u001B[39;00m\u001B[38;5;124m\"\u001B[39m\n\u001B[0;32m   1254\u001B[0m         )\n\u001B[1;32m-> 1255\u001B[0m store \u001B[38;5;241m=\u001B[39m store_open(target, mode, \u001B[38;5;28mformat\u001B[39m, group, \u001B[38;5;241m*\u001B[39m\u001B[38;5;241m*\u001B[39mkwargs)\n\u001B[0;32m   1257\u001B[0m \u001B[38;5;28;01mif\u001B[39;00m unlimited_dims \u001B[38;5;129;01mis\u001B[39;00m \u001B[38;5;28;01mNone\u001B[39;00m:\n\u001B[0;32m   1258\u001B[0m     unlimited_dims \u001B[38;5;241m=\u001B[39m dataset\u001B[38;5;241m.\u001B[39mencoding\u001B[38;5;241m.\u001B[39mget(\u001B[38;5;124m\"\u001B[39m\u001B[38;5;124munlimited_dims\u001B[39m\u001B[38;5;124m\"\u001B[39m, \u001B[38;5;28;01mNone\u001B[39;00m)\n",
      "File \u001B[1;32m~\\.conda\\envs\\Meteorological\\lib\\site-packages\\xarray\\backends\\netCDF4_.py:391\u001B[0m, in \u001B[0;36mNetCDF4DataStore.open\u001B[1;34m(cls, filename, mode, format, group, clobber, diskless, persist, lock, lock_maker, autoclose)\u001B[0m\n\u001B[0;32m    385\u001B[0m kwargs \u001B[38;5;241m=\u001B[39m \u001B[38;5;28mdict\u001B[39m(\n\u001B[0;32m    386\u001B[0m     clobber\u001B[38;5;241m=\u001B[39mclobber, diskless\u001B[38;5;241m=\u001B[39mdiskless, persist\u001B[38;5;241m=\u001B[39mpersist, \u001B[38;5;28mformat\u001B[39m\u001B[38;5;241m=\u001B[39m\u001B[38;5;28mformat\u001B[39m\n\u001B[0;32m    387\u001B[0m )\n\u001B[0;32m    388\u001B[0m manager \u001B[38;5;241m=\u001B[39m CachingFileManager(\n\u001B[0;32m    389\u001B[0m     netCDF4\u001B[38;5;241m.\u001B[39mDataset, filename, mode\u001B[38;5;241m=\u001B[39mmode, kwargs\u001B[38;5;241m=\u001B[39mkwargs\n\u001B[0;32m    390\u001B[0m )\n\u001B[1;32m--> 391\u001B[0m \u001B[38;5;28;01mreturn\u001B[39;00m \u001B[38;5;28;43mcls\u001B[39;49m\u001B[43m(\u001B[49m\u001B[43mmanager\u001B[49m\u001B[43m,\u001B[49m\u001B[43m \u001B[49m\u001B[43mgroup\u001B[49m\u001B[38;5;241;43m=\u001B[39;49m\u001B[43mgroup\u001B[49m\u001B[43m,\u001B[49m\u001B[43m \u001B[49m\u001B[43mmode\u001B[49m\u001B[38;5;241;43m=\u001B[39;49m\u001B[43mmode\u001B[49m\u001B[43m,\u001B[49m\u001B[43m \u001B[49m\u001B[43mlock\u001B[49m\u001B[38;5;241;43m=\u001B[39;49m\u001B[43mlock\u001B[49m\u001B[43m,\u001B[49m\u001B[43m \u001B[49m\u001B[43mautoclose\u001B[49m\u001B[38;5;241;43m=\u001B[39;49m\u001B[43mautoclose\u001B[49m\u001B[43m)\u001B[49m\n",
      "File \u001B[1;32m~\\.conda\\envs\\Meteorological\\lib\\site-packages\\xarray\\backends\\netCDF4_.py:338\u001B[0m, in \u001B[0;36mNetCDF4DataStore.__init__\u001B[1;34m(self, manager, group, mode, lock, autoclose)\u001B[0m\n\u001B[0;32m    336\u001B[0m \u001B[38;5;28mself\u001B[39m\u001B[38;5;241m.\u001B[39m_group \u001B[38;5;241m=\u001B[39m group\n\u001B[0;32m    337\u001B[0m \u001B[38;5;28mself\u001B[39m\u001B[38;5;241m.\u001B[39m_mode \u001B[38;5;241m=\u001B[39m mode\n\u001B[1;32m--> 338\u001B[0m \u001B[38;5;28mself\u001B[39m\u001B[38;5;241m.\u001B[39mformat \u001B[38;5;241m=\u001B[39m \u001B[38;5;28;43mself\u001B[39;49m\u001B[38;5;241;43m.\u001B[39;49m\u001B[43mds\u001B[49m\u001B[38;5;241m.\u001B[39mdata_model\n\u001B[0;32m    339\u001B[0m \u001B[38;5;28mself\u001B[39m\u001B[38;5;241m.\u001B[39m_filename \u001B[38;5;241m=\u001B[39m \u001B[38;5;28mself\u001B[39m\u001B[38;5;241m.\u001B[39mds\u001B[38;5;241m.\u001B[39mfilepath()\n\u001B[0;32m    340\u001B[0m \u001B[38;5;28mself\u001B[39m\u001B[38;5;241m.\u001B[39mis_remote \u001B[38;5;241m=\u001B[39m is_remote_uri(\u001B[38;5;28mself\u001B[39m\u001B[38;5;241m.\u001B[39m_filename)\n",
      "File \u001B[1;32m~\\.conda\\envs\\Meteorological\\lib\\site-packages\\xarray\\backends\\netCDF4_.py:400\u001B[0m, in \u001B[0;36mNetCDF4DataStore.ds\u001B[1;34m(self)\u001B[0m\n\u001B[0;32m    398\u001B[0m \u001B[38;5;129m@property\u001B[39m\n\u001B[0;32m    399\u001B[0m \u001B[38;5;28;01mdef\u001B[39;00m \u001B[38;5;21mds\u001B[39m(\u001B[38;5;28mself\u001B[39m):\n\u001B[1;32m--> 400\u001B[0m     \u001B[38;5;28;01mreturn\u001B[39;00m \u001B[38;5;28;43mself\u001B[39;49m\u001B[38;5;241;43m.\u001B[39;49m\u001B[43m_acquire\u001B[49m\u001B[43m(\u001B[49m\u001B[43m)\u001B[49m\n",
      "File \u001B[1;32m~\\.conda\\envs\\Meteorological\\lib\\site-packages\\xarray\\backends\\netCDF4_.py:394\u001B[0m, in \u001B[0;36mNetCDF4DataStore._acquire\u001B[1;34m(self, needs_lock)\u001B[0m\n\u001B[0;32m    393\u001B[0m \u001B[38;5;28;01mdef\u001B[39;00m \u001B[38;5;21m_acquire\u001B[39m(\u001B[38;5;28mself\u001B[39m, needs_lock\u001B[38;5;241m=\u001B[39m\u001B[38;5;28;01mTrue\u001B[39;00m):\n\u001B[1;32m--> 394\u001B[0m     \u001B[38;5;28;01mwith\u001B[39;00m \u001B[38;5;28mself\u001B[39m\u001B[38;5;241m.\u001B[39m_manager\u001B[38;5;241m.\u001B[39macquire_context(needs_lock) \u001B[38;5;28;01mas\u001B[39;00m root:\n\u001B[0;32m    395\u001B[0m         ds \u001B[38;5;241m=\u001B[39m _nc4_require_group(root, \u001B[38;5;28mself\u001B[39m\u001B[38;5;241m.\u001B[39m_group, \u001B[38;5;28mself\u001B[39m\u001B[38;5;241m.\u001B[39m_mode)\n\u001B[0;32m    396\u001B[0m     \u001B[38;5;28;01mreturn\u001B[39;00m ds\n",
      "File \u001B[1;32m~\\.conda\\envs\\Meteorological\\lib\\contextlib.py:119\u001B[0m, in \u001B[0;36m_GeneratorContextManager.__enter__\u001B[1;34m(self)\u001B[0m\n\u001B[0;32m    117\u001B[0m \u001B[38;5;28;01mdel\u001B[39;00m \u001B[38;5;28mself\u001B[39m\u001B[38;5;241m.\u001B[39margs, \u001B[38;5;28mself\u001B[39m\u001B[38;5;241m.\u001B[39mkwds, \u001B[38;5;28mself\u001B[39m\u001B[38;5;241m.\u001B[39mfunc\n\u001B[0;32m    118\u001B[0m \u001B[38;5;28;01mtry\u001B[39;00m:\n\u001B[1;32m--> 119\u001B[0m     \u001B[38;5;28;01mreturn\u001B[39;00m \u001B[38;5;28;43mnext\u001B[39;49m\u001B[43m(\u001B[49m\u001B[38;5;28;43mself\u001B[39;49m\u001B[38;5;241;43m.\u001B[39;49m\u001B[43mgen\u001B[49m\u001B[43m)\u001B[49m\n\u001B[0;32m    120\u001B[0m \u001B[38;5;28;01mexcept\u001B[39;00m \u001B[38;5;167;01mStopIteration\u001B[39;00m:\n\u001B[0;32m    121\u001B[0m     \u001B[38;5;28;01mraise\u001B[39;00m \u001B[38;5;167;01mRuntimeError\u001B[39;00m(\u001B[38;5;124m\"\u001B[39m\u001B[38;5;124mgenerator didn\u001B[39m\u001B[38;5;124m'\u001B[39m\u001B[38;5;124mt yield\u001B[39m\u001B[38;5;124m\"\u001B[39m) \u001B[38;5;28;01mfrom\u001B[39;00m \u001B[38;5;28;01mNone\u001B[39;00m\n",
      "File \u001B[1;32m~\\.conda\\envs\\Meteorological\\lib\\site-packages\\xarray\\backends\\file_manager.py:199\u001B[0m, in \u001B[0;36mCachingFileManager.acquire_context\u001B[1;34m(self, needs_lock)\u001B[0m\n\u001B[0;32m    196\u001B[0m \u001B[38;5;129m@contextlib\u001B[39m\u001B[38;5;241m.\u001B[39mcontextmanager\n\u001B[0;32m    197\u001B[0m \u001B[38;5;28;01mdef\u001B[39;00m \u001B[38;5;21macquire_context\u001B[39m(\u001B[38;5;28mself\u001B[39m, needs_lock\u001B[38;5;241m=\u001B[39m\u001B[38;5;28;01mTrue\u001B[39;00m):\n\u001B[0;32m    198\u001B[0m \u001B[38;5;250m    \u001B[39m\u001B[38;5;124;03m\"\"\"Context manager for acquiring a file.\"\"\"\u001B[39;00m\n\u001B[1;32m--> 199\u001B[0m     file, cached \u001B[38;5;241m=\u001B[39m \u001B[38;5;28;43mself\u001B[39;49m\u001B[38;5;241;43m.\u001B[39;49m\u001B[43m_acquire_with_cache_info\u001B[49m\u001B[43m(\u001B[49m\u001B[43mneeds_lock\u001B[49m\u001B[43m)\u001B[49m\n\u001B[0;32m    200\u001B[0m     \u001B[38;5;28;01mtry\u001B[39;00m:\n\u001B[0;32m    201\u001B[0m         \u001B[38;5;28;01myield\u001B[39;00m file\n",
      "File \u001B[1;32m~\\.conda\\envs\\Meteorological\\lib\\site-packages\\xarray\\backends\\file_manager.py:217\u001B[0m, in \u001B[0;36mCachingFileManager._acquire_with_cache_info\u001B[1;34m(self, needs_lock)\u001B[0m\n\u001B[0;32m    215\u001B[0m     kwargs \u001B[38;5;241m=\u001B[39m kwargs\u001B[38;5;241m.\u001B[39mcopy()\n\u001B[0;32m    216\u001B[0m     kwargs[\u001B[38;5;124m\"\u001B[39m\u001B[38;5;124mmode\u001B[39m\u001B[38;5;124m\"\u001B[39m] \u001B[38;5;241m=\u001B[39m \u001B[38;5;28mself\u001B[39m\u001B[38;5;241m.\u001B[39m_mode\n\u001B[1;32m--> 217\u001B[0m file \u001B[38;5;241m=\u001B[39m \u001B[38;5;28mself\u001B[39m\u001B[38;5;241m.\u001B[39m_opener(\u001B[38;5;241m*\u001B[39m\u001B[38;5;28mself\u001B[39m\u001B[38;5;241m.\u001B[39m_args, \u001B[38;5;241m*\u001B[39m\u001B[38;5;241m*\u001B[39mkwargs)\n\u001B[0;32m    218\u001B[0m \u001B[38;5;28;01mif\u001B[39;00m \u001B[38;5;28mself\u001B[39m\u001B[38;5;241m.\u001B[39m_mode \u001B[38;5;241m==\u001B[39m \u001B[38;5;124m\"\u001B[39m\u001B[38;5;124mw\u001B[39m\u001B[38;5;124m\"\u001B[39m:\n\u001B[0;32m    219\u001B[0m     \u001B[38;5;66;03m# ensure file doesn't get overridden when opened again\u001B[39;00m\n\u001B[0;32m    220\u001B[0m     \u001B[38;5;28mself\u001B[39m\u001B[38;5;241m.\u001B[39m_mode \u001B[38;5;241m=\u001B[39m \u001B[38;5;124m\"\u001B[39m\u001B[38;5;124ma\u001B[39m\u001B[38;5;124m\"\u001B[39m\n",
      "File \u001B[1;32msrc\\\\netCDF4\\\\_netCDF4.pyx:2469\u001B[0m, in \u001B[0;36mnetCDF4._netCDF4.Dataset.__init__\u001B[1;34m()\u001B[0m\n",
      "File \u001B[1;32msrc\\\\netCDF4\\\\_netCDF4.pyx:2028\u001B[0m, in \u001B[0;36mnetCDF4._netCDF4._ensure_nc_success\u001B[1;34m()\u001B[0m\n",
      "\u001B[1;31mPermissionError\u001B[0m: [Errno 13] Permission denied: 'D:\\\\PyFile\\\\paper1\\\\cache\\\\reg_lbm\\\\reg_lbm_t2m_sst.nc'"
     ]
    }
   ],
   "execution_count": 29
  },
  {
   "metadata": {
    "ExecuteTime": {
     "end_time": "2024-12-13T01:54:12.092023Z",
     "start_time": "2024-12-13T01:54:12.068169Z"
    }
   },
   "cell_type": "code",
   "source": "xr.open_dataset(r'D:\\PyFile\\paper1\\cache\\reg_lbm\\reg_lbm_t2m_sst.nc')['__xarray_dataarray_variable__']",
   "id": "a9143184aa8db453",
   "outputs": [
    {
     "data": {
      "text/plain": [
       "-0.4275289820089265"
      ]
     },
     "execution_count": 31,
     "metadata": {},
     "output_type": "execute_result"
    }
   ],
   "execution_count": 31
  },
  {
   "metadata": {
    "ExecuteTime": {
     "end_time": "2024-12-13T01:54:39.923815Z",
     "start_time": "2024-12-13T01:54:26.701441Z"
    }
   },
   "cell_type": "code",
   "source": [
    "reg_t2m = [[np.polyfit(sat_78[:], t2m_78[:, ilat, ilon], 1)[0] for ilon in range(len(lon_t2m))] for ilat in tqdm(range(len(lat_t2m)), desc='计算LBM 2mT t2m', position=0, leave=True)]\n",
    "xr.DataArray(reg_t2m, coords=[lat_t2m, lon_t2m], dims=['lat', 'lon']).to_netcdf(r'D:\\PyFile\\paper1\\cache\\reg_lbm\\reg_lbm_t2m_t2m.nc')"
   ],
   "id": "932e323d08553f79",
   "outputs": [
    {
     "name": "stderr",
     "output_type": "stream",
     "text": [
      "计算LBM 2mT t2m: 100%|██████████| 361/361 [00:13<00:00, 27.40it/s]\n"
     ]
    }
   ],
   "execution_count": 32
  },
  {
   "metadata": {
    "collapsed": true,
    "ExecuteTime": {
     "end_time": "2024-12-13T01:55:53.567589Z",
     "start_time": "2024-12-13T01:54:42.136041Z"
    }
   },
   "cell_type": "code",
   "source": [
    "reg_olr = [[np.polyfit(sat_78[:], olr[:, ilat, ilon], 1)[0] for ilon in range(len(lon_olr))] for ilat in tqdm(range(len(lat_olr)), desc='计算LBM 2mT olr', position=0, leave=True)]\n",
    "xr.DataArray(reg_olr, coords=[lat_olr, lon_olr], dims=['lat', 'lon']).to_netcdf(r'D:\\PyFile\\paper1\\cache\\reg_lbm\\reg_lbm_t2m_olr.nc')"
   ],
   "id": "initial_id",
   "outputs": [
    {
     "name": "stderr",
     "output_type": "stream",
     "text": [
      "计算LBM 2mT olr: 100%|██████████| 361/361 [01:11<00:00,  5.06it/s]\n"
     ]
    }
   ],
   "execution_count": 33
  }
 ],
 "metadata": {
  "kernelspec": {
   "display_name": "Python 3",
   "language": "python",
   "name": "python3"
  },
  "language_info": {
   "codemirror_mode": {
    "name": "ipython",
    "version": 2
   },
   "file_extension": ".py",
   "mimetype": "text/x-python",
   "name": "python",
   "nbconvert_exporter": "python",
   "pygments_lexer": "ipython2",
   "version": "2.7.6"
  }
 },
 "nbformat": 4,
 "nbformat_minor": 5
}
