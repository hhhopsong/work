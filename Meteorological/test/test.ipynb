{
 "cells": [
  {
   "cell_type": "code",
   "id": "8f1f918bbfe777a",
   "metadata": {
    "ExecuteTime": {
     "end_time": "2025-04-14T08:21:12.612897Z",
     "start_time": "2025-04-14T08:21:08.095714Z"
    }
   },
   "source": [
    "import warnings\n",
    "import tqdm as tq\n",
    "import xarray as xr\n",
    "import numpy as np\n",
    "\n",
    "from metpy.units import units\n",
    "import metpy.calc as mpcalc\n",
    "import metpy.constants as constants\n",
    "\n",
    "from toolbar.data_read import *"
   ],
   "outputs": [],
   "execution_count": 1
  },
  {
   "cell_type": "code",
   "id": "f66f2ca1bab687f3",
   "metadata": {
    "ExecuteTime": {
     "end_time": "2025-04-14T08:21:15.460023Z",
     "start_time": "2025-04-14T08:21:12.662843Z"
    }
   },
   "source": [
    "press_level = xr.open_dataset(r'E:\\data\\ERA5\\ERA5_pressLev\\era5_pressLev.nc', chunks={'date': 40})\n",
    "high_press_level = xr.open_dataset(r'E:\\data\\ERA5\\ERA5_pressLev\\era5_pressLev_high.nc', chunks={'valid_time': 40})"
   ],
   "outputs": [],
   "execution_count": 2
  },
  {
   "cell_type": "code",
   "id": "1db4bbfda9fe1ce0",
   "metadata": {
    "ExecuteTime": {
     "end_time": "2025-04-14T07:52:09.127357Z",
     "start_time": "2025-04-14T07:34:55.323881Z"
    }
   },
   "source": [
    "U_low = era5_p_AfterOpen(press_level, 1961, 2023, press_level.pressure_level,'u')\n",
    "U_high = era5_p_AfterOpen(high_press_level, 1961, 2023, high_press_level.pressure_level,'u')\n",
    "U = xr.concat([U_low, U_high], dim='level')\n",
    "U.to_netcdf(r'E:\\data\\ERA5\\ERA5_pressLev\\single_var\\U.nc')"
   ],
   "outputs": [],
   "execution_count": 9
  },
  {
   "cell_type": "code",
   "id": "e13288c5940d0e85",
   "metadata": {
    "ExecuteTime": {
     "end_time": "2025-04-14T08:14:38.260058Z",
     "start_time": "2025-04-14T07:54:19.437196Z"
    }
   },
   "source": [
    "V_low = era5_p_AfterOpen(press_level, 1961, 2023, press_level.pressure_level,'v')\n",
    "V_high = era5_p_AfterOpen(high_press_level, 1961, 2023, high_press_level.pressure_level,'v')\n",
    "V = xr.concat([V_low, V_high], dim='level')\n",
    "V.to_netcdf(r'E:\\data\\ERA5\\ERA5_pressLev\\single_var\\V.nc')"
   ],
   "outputs": [],
   "execution_count": 14
  },
  {
   "metadata": {
    "jupyter": {
     "is_executing": true
    },
    "ExecuteTime": {
     "start_time": "2025-04-14T08:21:17.169215Z"
    }
   },
   "cell_type": "code",
   "source": [
    "W_low = era5_p_AfterOpen(press_level, 1961, 2023, press_level.pressure_level,'w')\n",
    "W_high = era5_p_AfterOpen(high_press_level, 1961, 2023, high_press_level.pressure_level,'w')\n",
    "W = xr.concat([W_low, W_high], dim='level')\n",
    "W.to_netcdf(r'E:\\data\\ERA5\\ERA5_pressLev\\single_var\\W.nc')\n",
    "del W_low, W_high"
   ],
   "id": "4892f57566d6975c",
   "outputs": [],
   "execution_count": null
  },
  {
   "metadata": {
    "ExecuteTime": {
     "end_time": "2025-04-14T08:20:00.155465Z",
     "start_time": "2025-04-14T08:20:00.117853Z"
    }
   },
   "cell_type": "code",
   "source": [
    "T_low = era5_p_AfterOpen(press_level, 1961, 2023, press_level.pressure_level,'t')\n",
    "T_high = era5_p_AfterOpen(high_press_level, 1961, 2023, high_press_level.pressure_level,'t')\n",
    "T = xr.concat([T_low, T_high], dim='level')\n",
    "T.to_netcdf(r'E:\\data\\ERA5\\ERA5_pressLev\\single_var\\T.nc')\n",
    "del T_low, T_high"
   ],
   "id": "4e8942c93d5f50b",
   "outputs": [
    {
     "ename": "NameError",
     "evalue": "name 'U' is not defined",
     "output_type": "error",
     "traceback": [
      "\u001B[1;31m---------------------------------------------------------------------------\u001B[0m",
      "\u001B[1;31mNameError\u001B[0m                                 Traceback (most recent call last)",
      "Cell \u001B[1;32mIn[18], line 1\u001B[0m\n\u001B[1;32m----> 1\u001B[0m \u001B[38;5;28;01mdel\u001B[39;00m U, V\n",
      "\u001B[1;31mNameError\u001B[0m: name 'U' is not defined"
     ]
    }
   ],
   "execution_count": 18
  },
  {
   "cell_type": "code",
   "execution_count": 1,
   "id": "13d51495f9811658",
   "metadata": {
    "ExecuteTime": {
     "end_time": "2025-02-19T07:06:14.160925Z",
     "start_time": "2025-02-19T07:06:08.815455Z"
    }
   },
   "outputs": [],
   "source": [
    "\n",
    "U = xr.open_dataset(r'E:\\data\\ERA5\\ERA5_pressLev\\single_var\\U.nc')\n",
    "V = xr.open_dataset(r'E:\\data\\ERA5\\ERA5_pressLev\\single_var\\V.nc')\n",
    "W = xr.open_dataset(r'E:\\data\\ERA5\\ERA5_pressLev\\single_var\\W.nc')\n",
    "T = xr.open_dataset(r'E:\\data\\ERA5\\ERA5_pressLev\\single_var\\T.nc')\n"
   ]
  },
  {
   "cell_type": "code",
   "execution_count": null,
   "id": "dc6a87b98b9a3bb9",
   "metadata": {},
   "outputs": [],
   "source": []
  },
  {
   "cell_type": "code",
   "execution_count": null,
   "id": "d5892a633bde8833",
   "metadata": {},
   "outputs": [],
   "source": [
    "class TemperatureBudget:\n",
    "    \"\"\"\n",
    "    U : xarray.DataArray\n",
    "        水平纬向风场['time, 'level', 'lat', 'lon']\n",
    "    V : xarray.DataArray\n",
    "        水平经向风场['time, 'level', 'lat', 'lon']\n",
    "    W : xarray.DataArray\n",
    "        垂直速度场 (Pa/s) ['time, 'level', 'lat', 'lon']\n",
    "    T : xarray.DataArray\n",
    "        温度异常场,时间上在目标月份前后各取一个月以进行差分['time, 'level', 'lat', 'lon']\n",
    "    ----------\n",
    "\n",
    "    用以计算温度收支方程:\\n\n",
    "    ∂T/∂t = -V·∇T + ωσ + Q/Cp \\n\n",
    "\n",
    "    T为温度\\n\n",
    "    t为时间(s)\\n\n",
    "    V为水平速度矢量\\n\n",
    "    ∇T为温度水平梯度\\n\n",
    "    ω为垂直速度\\n\n",
    "    σ表示静力稳定度\\n\n",
    "    Q表示非绝热加热率\\n\n",
    "    Cp表示定压比热容\n",
    "\n",
    "    ----------\n",
    "\n",
    "    【另附扰动方程：∂T'/∂t = -(V·∇T)' + (ωσ)' + Q'/Cp】\\n\n",
    "    '表示扰动量\n",
    "\n",
    "    \"\"\"\n",
    "    def __init__(self, U: xr.DataArray, V: xr.DataArray, W: xr.DataArray, T: xr.DataArray):\n",
    "        self.U = np.array(U)\n",
    "        self.V = np.array(V)\n",
    "        self.W = np.array(W)/100 * (units.hPa / units.s)\n",
    "        self.T = np.array(T)\n",
    "        # 常量\n",
    "        self.date = T.time.values\n",
    "        self.lev = T.level.values\n",
    "        self.lon = T.lon.values\n",
    "        self.lat = T.lat.values\n",
    "\n",
    "\n",
    "        # 结果\n",
    "        self.data = self.main()\n",
    "        self.dTdt = self.data['dTdt']\n",
    "        self.adv_T = self.data['adv_T']\n",
    "        self.ver = self.data['ver']\n",
    "        self.Q = self.data['Q']\n",
    "\n",
    "    def main(self):\n",
    "        \"\"\"\n",
    "        计算温度收支方程\n",
    "        Returns\n",
    "        -------\n",
    "        data : xarray.Dataset\n",
    "            温度收支方程['year', 'level', 'lat', 'lon']\n",
    "            dTdt: 温度倾向\n",
    "            adv_T: 温度平流\n",
    "            ver: 垂直速度扰动\n",
    "            Q: 非绝热加热率\n",
    "        \"\"\"\n",
    "\n",
    "        month_days_dict = {\n",
    "            1: 31, 2: 28.25, 3: 31, 4: 30, 5: 31, 6: 30,\n",
    "            7: 31, 8: 31, 9: 30, 10: 31, 11: 30, 12: 31\n",
    "        }\n",
    "        data_all = np.zeros((4, len(self.date), len(self.lev), len(self.lat), len(self.lon)))\n",
    "        for i in tq.trange(len(self.date), desc='计算中...', unit='时次'):\n",
    "            time = month_days_dict[self.date.month.values[i]] * 24 * 60 * 60 * units.s\n",
    "            # 温度倾向\n",
    "            if i == 0:\n",
    "                dTdt = self.T[i + 1] * units.K - self.T[i] * units.K  # 时间前向差分\n",
    "            elif i == len(self.date) - 1:\n",
    "                dTdt = self.T[i] * units.K - self.T[i - 1] * units.K  # 时间后向差分\n",
    "            else:\n",
    "                dTdt = self.T[i + 1] * units.K - self.T[i - 1] * units.K  # 时间中央差分\n",
    "                dTdt = dTdt / 2.\n",
    "            # 温度平流\n",
    "            dx, dy = mpcalc.lat_lon_grid_deltas(self.lon, self.lat)\n",
    "            adv_T = np.zeros((len(self.lev), len(self.lat), len(self.lon)))\n",
    "            for ilev in range(len(self.lev)):\n",
    "                adv_T[ilev] = mpcalc.advection(self.T[i, ilev, :, :], self.U[i, ilev, :, :], self.V[i, ilev, :, :], dx=dx, dy=dy, x_dim=-1, y_dim=-2)\n",
    "            adv_T = adv_T * units.K / units.s\n",
    "            # 静力稳定度\n",
    "            pressure = np.array(self.lev).reshape((len(self.lev),1,1)) * units.hPa\n",
    "            T_K = self.T[i, :, :, :] * units.K\n",
    "            ss = ((constants.dry_air_gas_constant * T_K) / constants.dry_air_spec_heat_press / pressure\n",
    "                  - np.gradient(T_K, axis=0) / np.gradient(pressure, axis=0))\n",
    "            ver = self.W[i, :, :, :] * ss\n",
    "            # 非绝热加热率\n",
    "            Q = ((dTdt - adv_T * time - ver * time) * constants.dry_air_spec_heat_press) / time\n",
    "            data_all[:, i] = np.array([dTdt, adv_T, ver, Q])\n",
    "        # DataSet格式化\n",
    "        data = xr.Dataset({\n",
    "            'dTdt': (['time', 'level', 'lat', 'lon'], data_all[0]),\n",
    "            'adv_T': (['time', 'level', 'lat', 'lon'], data_all[1]),\n",
    "            'ver': (['time', 'level', 'lat', 'lon'], data_all[2]),\n",
    "            'Q': (['time', 'level', 'lat', 'lon'], data_all[3])},\n",
    "            coords={'level': self.lev, 'lat': self.lat, 'lon': self.lon, 'time': self.date})\n",
    "        return data\n",
    "\n",
    "    def to_nc(self, path):\n",
    "        \"\"\"\n",
    "        保存为nc文件\n",
    "        Parameters\n",
    "        ----------\n",
    "        path : str\n",
    "            保存路径\n",
    "        \"\"\"\n",
    "        self.data.to_netcdf(path)\n",
    "\n",
    "budget = TemperatureBudget(U, V, W, T)"
   ]
  }
 ],
 "metadata": {
  "kernelspec": {
   "display_name": "Meteorological",
   "language": "python",
   "name": "python3"
  },
  "language_info": {
   "codemirror_mode": {
    "name": "ipython",
    "version": 2
   },
   "file_extension": ".py",
   "mimetype": "text/x-python",
   "name": "python",
   "nbconvert_exporter": "python",
   "pygments_lexer": "ipython2",
   "version": "3.9.19"
  }
 },
 "nbformat": 4,
 "nbformat_minor": 5
}
