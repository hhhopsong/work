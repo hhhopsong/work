{
 "cells": [
  {
   "metadata": {
    "ExecuteTime": {
     "end_time": "2025-01-02T07:31:26.239815Z",
     "start_time": "2025-01-02T07:31:25.468658Z"
    }
   },
   "cell_type": "code",
   "source": [
    "import numpy as np\n",
    "from scipy.ndimage import generic_filter\n",
    "\n",
    "def nanmean_filter(data, size):\n",
    "    \"\"\"\n",
    "    对包含 NaN 的二维数组进行均值平滑，忽略 NaN 值。\n",
    "\n",
    "    参数：\n",
    "        data: 2D ndarray, 输入数据（包含 NaN 值）\n",
    "        size: int, 滑动窗口的大小（如 3 表示 3x3 窗口）\n",
    "\n",
    "    返回：\n",
    "        result: 2D ndarray, 平滑后的结果\n",
    "    \"\"\"\n",
    "    def nanmean_function(values):\n",
    "        # 忽略 NaN 值计算均值\n",
    "        valid_values = values[~np.isnan(values)]\n",
    "        if len(valid_values) > 0:\n",
    "            return np.mean(valid_values)\n",
    "        else:\n",
    "            return np.nan  # 如果全是 NaN，返回 NaN\n",
    "\n",
    "    # 使用滑动窗口进行平滑\n",
    "    result = generic_filter(data, nanmean_function, size=size, mode='constant', cval=np.nan)\n",
    "    return result\n",
    "\n",
    "# 示例数据\n",
    "data = np.array([[1, 2, np.nan],\n",
    "                 [4, np.nan, 6],\n",
    "                 [7, 8, 9]])\n",
    "\n",
    "# 3x3 窗口大小\n",
    "window_size = 3\n",
    "\n",
    "# 平滑处理\n",
    "smoothed_data = nanmean_filter(data, size=window_size)\n",
    "\n",
    "print(\"原始数据：\\n\", data)\n",
    "print(\"平滑后的数据：\\n\", smoothed_data)"
   ],
   "id": "31f75a435eb430c3",
   "outputs": [
    {
     "name": "stdout",
     "output_type": "stream",
     "text": [
      "原始数据：\n",
      " [[ 1.  2. nan]\n",
      " [ 4. nan  6.]\n",
      " [ 7.  8.  9.]]\n",
      "平滑后的数据：\n",
      " [[2.33333333 3.25       4.        ]\n",
      " [4.4        5.28571429 6.25      ]\n",
      " [6.33333333 6.8        7.66666667]]\n"
     ]
    }
   ],
   "execution_count": 1
  },
  {
   "metadata": {
    "ExecuteTime": {
     "end_time": "2025-01-02T07:31:51.529433Z",
     "start_time": "2025-01-02T07:31:51.514394Z"
    }
   },
   "cell_type": "code",
   "source": "",
   "id": "13d51495f9811658",
   "outputs": [
    {
     "data": {
      "text/plain": [
       "7.666666666666667"
      ]
     },
     "execution_count": 2,
     "metadata": {},
     "output_type": "execute_result"
    }
   ],
   "execution_count": 2
  }
 ],
 "metadata": {
  "kernelspec": {
   "display_name": "Python 3",
   "language": "python",
   "name": "python3"
  },
  "language_info": {
   "codemirror_mode": {
    "name": "ipython",
    "version": 2
   },
   "file_extension": ".py",
   "mimetype": "text/x-python",
   "name": "python",
   "nbconvert_exporter": "python",
   "pygments_lexer": "ipython2",
   "version": "2.7.6"
  }
 },
 "nbformat": 4,
 "nbformat_minor": 5
}
