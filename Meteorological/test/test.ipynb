{
 "cells": [
  {
   "metadata": {
    "ExecuteTime": {
     "end_time": "2024-12-23T08:09:12.389676Z",
     "start_time": "2024-12-23T08:09:12.370675Z"
    }
   },
   "cell_type": "code",
   "source": [
    "import xarray as xr\n",
    "import numpy as np\n",
    "import tqdm as tq\n",
    "\n",
    "from toolbar.filter import MovingAverageFilter\n",
    "from toolbar.masked import masked   # 气象工具函数\n"
   ],
   "id": "502203a2f0e7a7da",
   "outputs": [],
   "execution_count": 21
  },
  {
   "metadata": {
    "ExecuteTime": {
     "end_time": "2024-12-23T08:10:00.741144Z",
     "start_time": "2024-12-23T08:09:13.785776Z"
    }
   },
   "cell_type": "code",
   "source": [
    "# 数据读取\n",
    "data_year = ['1961', '2022']\n",
    "# 读取CN05.1逐日最高气温数据\n",
    "CN051_1 = xr.open_dataset(r\"E:\\data\\CN05.1\\1961_2021\\CN05.1_Tmax_1961_2021_daily_025x025.nc\")\n",
    "CN051_2 = xr.open_dataset(r\"E:\\data\\CN05.1\\2022\\CN05.1_Tmax_2022_daily_025x025.nc\")\n",
    "Tmax = xr.concat([CN051_1, CN051_2], dim='time')\n",
    "Tmax = masked(Tmax, r\"D:\\PyFile\\map\\地图边界数据\\长江区1：25万界线数据集（2002年）\\长江区.shp\")  # 掩膜处理得长江流域温度\n",
    "Tmax = Tmax.sel(time=Tmax['time.month'].isin([6, 7, 8])).groupby('time.year')  # 截取夏季数据"
   ],
   "id": "153f3a642fc73614",
   "outputs": [
    {
     "name": "stderr",
     "output_type": "stream",
     "text": [
      "C:\\Users\\86136\\.conda\\envs\\Meteorological\\lib\\site-packages\\xarray\\coding\\times.py:154: SerializationWarning: Ambiguous reference date string: 1-1-1 00:00:00. The first value is assumed to be the year hence will be padded with zeros to remove the ambiguity (the padded reference date string is: 0001-1-1 00:00:00). To remove this message, remove the ambiguity by padding your reference date strings with zeros.\n",
      "  warnings.warn(warning_msg, SerializationWarning)\n"
     ]
    }
   ],
   "execution_count": 22
  },
  {
   "metadata": {
    "ExecuteTime": {
     "end_time": "2024-12-23T08:12:54.962664Z",
     "start_time": "2024-12-23T08:10:49.346863Z"
    }
   },
   "cell_type": "code",
   "source": [
    "Tmax_5Day_filt = np.array([[[MovingAverageFilter(iyear[1]['tmax'].data[:, i, j], 'lowpass', [5], np.nan).filted() for j in range(283)] for i in range(163)] for iyear in tq.tqdm(Tmax)])  # 5天滑动平均\n",
    "Tmax_5Day_filt = Tmax_5Day_filt.transpose(0, 3, 1, 2) # 转换为(year, day, lat, lon)格式"
   ],
   "id": "10f9075311204054",
   "outputs": [
    {
     "name": "stderr",
     "output_type": "stream",
     "text": [
      "100%|██████████| 62/62 [02:02<00:00,  1.98s/it]\n"
     ]
    }
   ],
   "execution_count": 23
  },
  {
   "metadata": {},
   "cell_type": "markdown",
   "source": "",
   "id": "2bb57b184a3f61f1"
  },
  {
   "metadata": {
    "ExecuteTime": {
     "end_time": "2024-12-23T08:33:17.251540Z",
     "start_time": "2024-12-23T08:33:10.482324Z"
    }
   },
   "cell_type": "code",
   "source": [
    "Tmax_5Day_filt = xr.DataArray(Tmax_5Day_filt,\n",
    "                                coords=[[str(i) for i in range(eval(data_year[0]), eval(data_year[1]) + 1)],\n",
    "                                        [str(i) for i in range(1, 88 + 1)],\n",
    "                                        CN051_2['lat'].data,\n",
    "                                        CN051_2['lon'].data],\n",
    "                                dims=['year', 'day', 'lat', 'lon'],)\n",
    "Tmax_5Day_filt.to_netcdf(fr\"D:\\PyFile\\p2\\data\\Tmax_5Day_filt.nc\")"
   ],
   "id": "7183abdfe7e25f25",
   "outputs": [],
   "execution_count": 28
  },
  {
   "metadata": {
    "ExecuteTime": {
     "end_time": "2024-12-23T08:38:06.123010Z",
     "start_time": "2024-12-23T08:38:01.760Z"
    }
   },
   "cell_type": "code",
   "source": "zone_stations = masked((CN051_2-CN051_2+1).sel(time='2022-01-01'), r\"D:\\PyFile\\map\\地图边界数据\\长江区1：25万界线数据集（2002年）\\长江区.shp\") xr.open_dataset(r\"E:\\data\\CN05.1\\2022\\CN05.1_Tmax_2022_daily_025x025.nc\")",
   "id": "c26bdd75e89369ae",
   "outputs": [
    {
     "data": {
      "text/plain": [
       "27.26026611328125"
      ]
     },
     "execution_count": 34,
     "metadata": {},
     "output_type": "execute_result"
    }
   ],
   "execution_count": 34
  },
  {
   "metadata": {},
   "cell_type": "code",
   "outputs": [],
   "execution_count": null,
   "source": [
    "#返回40百分位值, 忽略nan值\n",
    "np.nanpercentile(Tmax_5Day_filt, 50)"
   ],
   "id": "cadce0e5ce00281e"
  }
 ],
 "metadata": {
  "kernelspec": {
   "display_name": "Python 3",
   "language": "python",
   "name": "python3"
  },
  "language_info": {
   "codemirror_mode": {
    "name": "ipython",
    "version": 2
   },
   "file_extension": ".py",
   "mimetype": "text/x-python",
   "name": "python",
   "nbconvert_exporter": "python",
   "pygments_lexer": "ipython2",
   "version": "2.7.6"
  }
 },
 "nbformat": 4,
 "nbformat_minor": 5
}
