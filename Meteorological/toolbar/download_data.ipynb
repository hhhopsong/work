{
 "cells": [
  {
   "cell_type": "code",
   "id": "c7dc7374486073f8",
   "metadata": {
    "ExecuteTime": {
     "end_time": "2024-11-26T08:18:29.053243Z",
     "start_time": "2024-11-26T08:18:29.026156Z"
    }
   },
   "source": [
    "import cdsapi\n",
    "import tqdm as tq\n",
    "import multiprocessing\n",
    "\n",
    "def download(year):\n",
    "    print(f\"Downloading {year}...\")\n",
    "    dataset = \"derived-era5-pressure-levels-daily-statistics\"\n",
    "    request = {\n",
    "        \"product_type\": \"reanalysis\",\n",
    "        \"variable\": [\n",
    "            \"geopotential\",\n",
    "            \"u_component_of_wind\",\n",
    "            \"v_component_of_wind\"\n",
    "        ],\n",
    "        \"year\": [str(year)],\n",
    "        \"month\": [\"06\", \"07\", \"08\"],\n",
    "        \"day\": [\n",
    "            \"01\", \"02\", \"03\", \"04\", \"05\", \"06\", \"07\", \"08\", \"09\", \"10\",\n",
    "            \"11\", \"12\", \"13\", \"14\", \"15\", \"16\", \"17\", \"18\", \"19\", \"20\",\n",
    "            \"21\", \"22\", \"23\", \"24\", \"25\", \"26\", \"27\", \"28\", \"29\", \"30\", \"31\"\n",
    "        ],\n",
    "        \"pressure_level\": [\"200\"],\n",
    "        \"daily_statistic\": \"daily_mean\",\n",
    "        \"time_zone\": \"utc+00:00\",\n",
    "        \"frequency\": \"6_hourly\"\n",
    "    }\n",
    "    target = f'E:\\data\\ERA5\\ERA5_pressLev\\daily\\era5_uvz_daily_{year}.nc'\n",
    "    client = cdsapi.Client()\n",
    "    client.retrieve(dataset, request, target)\n"
   ],
   "outputs": [],
   "execution_count": 5
  },
  {
   "metadata": {
    "jupyter": {
     "is_executing": true
    },
    "ExecuteTime": {
     "start_time": "2024-11-26T08:18:31.643005Z"
    }
   },
   "cell_type": "code",
   "source": [
    "if __name__ == '__main__':\n",
    "    Ncpu = multiprocessing.cpu_count() - 1\n",
    "    data_pool = []\n",
    "    for var in range(1961, 2025):\n",
    "        data_pool.append(var)\n",
    "    p = multiprocessing.Pool()\n",
    "    p.starmap(download, data_pool)\n",
    "    p.close()\n",
    "    p.join()\n"
   ],
   "id": "31c6699181c6ba7d",
   "outputs": [],
   "execution_count": null
  }
 ],
 "metadata": {
  "kernelspec": {
   "display_name": "Python 3",
   "language": "python",
   "name": "python3"
  },
  "language_info": {
   "codemirror_mode": {
    "name": "ipython",
    "version": 2
   },
   "file_extension": ".py",
   "mimetype": "text/x-python",
   "name": "python",
   "nbconvert_exporter": "python",
   "pygments_lexer": "ipython2",
   "version": "2.7.6"
  }
 },
 "nbformat": 4,
 "nbformat_minor": 5
}
