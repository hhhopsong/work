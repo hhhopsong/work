{
 "cells": [
  {
   "metadata": {
    "ExecuteTime": {
     "end_time": "2024-12-23T06:54:12.131238Z",
     "start_time": "2024-12-23T06:54:05.988193Z"
    }
   },
   "cell_type": "code",
   "source": [
    "import pandas as pd\n",
    "from cartopy import crs as ccrs\n",
    "import cartopy.feature as cfeature\n",
    "from cartopy.io.shapereader import Reader\n",
    "from cartopy.mpl.ticker import LongitudeFormatter, LatitudeFormatter  # 专门提供经纬度的\n",
    "from cartopy.util import add_cyclic_point\n",
    "import numpy as np\n",
    "import xarray as xr\n",
    "import matplotlib.pyplot as plt\n",
    "import matplotlib.transforms as mtransforms\n",
    "import matplotlib.patheffects as path_effects\n",
    "import matplotlib.path as mpath\n",
    "from cnmaps import get_adm_maps, draw_maps\n",
    "from matplotlib import ticker\n",
    "import cmaps\n",
    "from matplotlib.ticker import MultipleLocator, FixedLocator\n",
    "from eofs.standard import Eof\n",
    "from mpl_toolkits.axes_grid1.inset_locator import inset_axes\n",
    "from scipy.ndimage import filters\n",
    "from tqdm import tqdm\n",
    "import geopandas as gpd\n",
    "import salem\n",
    "from toolbar.TN_WaveActivityFlux import TN_WAF_3D, TN_WAF\n",
    "from toolbar.curved_quivers.modplot import Curlyquiver\n",
    "import pprint\n"
   ],
   "id": "f6203eeabd4a138a",
   "outputs": [
    {
     "name": "stderr",
     "output_type": "stream",
     "text": [
      "C:\\Users\\86136\\.conda\\envs\\Meteorological\\lib\\site-packages\\cnmaps\\__init__.py:23: UserWarning: 由于Shapely的版本高于2.0.0, 请将Shapely的版本降级到2.0.0以下, 否则会影响功能的使用\n",
      "  warnings.warn((\"由于Shapely的版本高于2.0.0, 请将Shapely的版本降级到2.0.0以下, 否则会影响功能的使用\"))\n"
     ]
    }
   ],
   "execution_count": 1
  },
  {
   "metadata": {},
   "cell_type": "code",
   "outputs": [],
   "execution_count": null,
   "source": "reg_z200 = [[np.polyfit(sat_78[:], z200_78[:, ilat, ilon]/9.8,1)[0] for ilon in range(len(lon_uvz))] for ilat in tqdm(range(len(lat_uvz)), desc='计算LBM 2mT Z200', position=0, leave=True)]",
   "id": "8f9272c5b5f7cf4"
  }
 ],
 "metadata": {
  "kernelspec": {
   "display_name": "Python 3",
   "language": "python",
   "name": "python3"
  },
  "language_info": {
   "codemirror_mode": {
    "name": "ipython",
    "version": 2
   },
   "file_extension": ".py",
   "mimetype": "text/x-python",
   "name": "python",
   "nbconvert_exporter": "python",
   "pygments_lexer": "ipython2",
   "version": "2.7.6"
  }
 },
 "nbformat": 4,
 "nbformat_minor": 5
}
