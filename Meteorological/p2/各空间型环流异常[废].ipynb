{
 "cells": [
  {
   "cell_type": "code",
   "id": "5737efb851ed1af8",
   "metadata": {
    "ExecuteTime": {
     "end_time": "2025-01-07T10:29:51.262110Z",
     "start_time": "2025-01-07T10:29:49.934024Z"
    }
   },
   "source": [
    "import numpy as np\n",
    "import xarray as xr\n",
    "import matplotlib.pyplot as plt\n",
    "import cartopy.crs as ccrs\n",
    "import cartopy.feature as cfeature\n",
    "import pandas as pd\n",
    "import tqdm as tq\n",
    "\n",
    "from cartopy.io.shapereader import Reader\n",
    "from cartopy.mpl.ticker import LongitudeFormatter, LatitudeFormatter\n",
    "from matplotlib.ticker import MultipleLocator\n",
    "\n",
    "from toolbar.curved_quivers.modplot import *\n",
    "\n",
    "def pic(fig, pic_loc, lat, lon, corr_u, corr_v, corr_z, corr_t2m, t2m):\n",
    "    ax = fig.add_subplot(pic_loc, projection=ccrs.PlateCarree(180-67.5))\n",
    "    ax.set_title(f'{str(picloc)[1]}) Type{str(picloc)[1]}', loc='left', fontsize=12)\n",
    "    ax.set_extent([65, 165, 0, 60], crs=ccrs.PlateCarree())\n",
    "    contf = ax.contourf(t2m['lon'], t2m['lat'], corr_t2m, cmap='coolwarm', levels=[-1, -0.8, -0.6, -0.4, -0.2, 0.2, 0.4, 0.6, 0.8, 1], extend='both')\n",
    "    cont = ax.contour(lon, lat, corr_z, colors='red', levels=[-1, -0.8, -0.6, -0.4, -0.2, 0.2, 0.4, 0.6, 0.8, 1])\n",
    "    #cont_clim = ax.contour(lon, lat, uvz_clim['z'].to_array(), colors='k', levels=5)\n",
    "    Cq = Curlyquiver(ax, lon, lat, corr_u, corr_v,\n",
    "                                  lon_trunc=-67.5, arrowsize=.5, scale=40, linewidth=0.4, regrid=20,\n",
    "                                  transform=ccrs.PlateCarree(central_longitude=0))\n",
    "    Cq.key(fig, U=1, label='1', lr=-1.1)\n",
    "    ax.add_feature(cfeature.COASTLINE.with_scale('110m'), linewidth=0.2)\n",
    "    ax.add_geometries(Reader(r'D:\\PyFile\\map\\self\\长江_TP\\长江_tp.shp').geometries(), ccrs.PlateCarree(),\n",
    "                      facecolor='none', edgecolor='black', linewidth=.5)\n",
    "    ax.add_geometries(Reader(r'D:\\PyFile\\map\\地图边界数据\\青藏高原边界数据总集\\TPBoundary2500m_长江流域\\TPBoundary2500m_长江流域.shp').geometries(),\n",
    "                      ccrs.PlateCarree(), facecolor='gray', edgecolor='black', linewidth=.5)\n",
    "    # 刻度线设置\n",
    "    xticks1 = np.arange(60, 160, 20)\n",
    "    yticks1 = np.arange(0, 60, 15)\n",
    "    ax.set_yticks(yticks1, crs=ccrs.PlateCarree())\n",
    "    lon_formatter = LongitudeFormatter()\n",
    "    lat_formatter = LatitudeFormatter()\n",
    "    ax.yaxis.set_major_formatter(lat_formatter)\n",
    "\n",
    "    ymajorLocator = MultipleLocator(30)  # 先定义xmajorLocator，再进行调用\n",
    "    ax.yaxis.set_major_locator(ymajorLocator)  # x轴最大刻度\n",
    "    yminorLocator = MultipleLocator(10)\n",
    "    ax.yaxis.set_minor_locator(yminorLocator)  # x轴最小刻度\n",
    "    # ax1.axes.xaxis.set_ticklabels([]) ##隐藏刻度标签\n",
    "    # 最大刻度、最小刻度的刻度线长短，粗细设置\n",
    "    ax.tick_params(which='major', length=4, width=.5, color='black')  # 最大刻度长度，宽度设置，\n",
    "    ax.tick_params(which='minor', length=2, width=.2, color='black')  # 最小刻度长度，宽度设置\n",
    "    ax.tick_params(which='both', bottom=True, top=False, left=True, labelbottom=True, labeltop=False)\n",
    "    plt.rcParams['ytick.direction'] = 'out'  # 将x轴的刻度线方向设置向内或者外\n",
    "    # 调整刻度值字体大小\n",
    "    ax.tick_params(axis='both', labelsize=12, colors='black')\n",
    "\n",
    "def corr(time_series, data):\n",
    "        # 计算相关系数\n",
    "    # 将 data 重塑为二维：时间轴为第一个维度\n",
    "    shape = data.shape\n",
    "    reshaped_data = data.reshape(len(time_series), -1)\n",
    "\n",
    "    # 减去均值以标准化\n",
    "    time_series_mean = time_series - np.mean(time_series)\n",
    "    data_mean = reshaped_data - np.mean(reshaped_data, axis=0)\n",
    "\n",
    "    # 计算分子（协方差）\n",
    "    numerator = np.sum(data_mean * time_series_mean[:, np.newaxis], axis=0)\n",
    "\n",
    "    # 计算分母（标准差乘积）\n",
    "    denominator = np.sqrt(np.sum(data_mean ** 2, axis=0)) * np.sqrt(np.sum(time_series_mean ** 2))\n",
    "\n",
    "    # 相关系数\n",
    "    correlation = numerator / denominator\n",
    "\n",
    "    # 重塑为 (lat, lon)\n",
    "    correlation_map = correlation.reshape(shape[1:])\n",
    "    return correlation_map\n",
    "\n",
    "\n",
    "K_type = xr.open_dataset(r\"D:\\PyFile\\p2\\data\\Time_type_AverFiltAll0.9%_0.3%_3.nc\")\n",
    "\n",
    "try:\n",
    "    uvz = xr.open_dataset(r\"D:\\PyFile\\p2\\data\\uvz_678.nc\")\n",
    "except:\n",
    "    uvz = xr.open_dataset(r\"E:\\data\\ERA5\\ERA5_pressLev\\era5_pressLev.nc\").sel(\n",
    "        date=slice('1961-01-01', '2023-12-31'),\n",
    "        pressure_level=[200, 300, 400, 500, 600, 700, 850],\n",
    "        latitude=[90 - i * 0.5 for i in range(361)], longitude=[i * 0.5 for i in range(720)])\n",
    "    uvz = xr.Dataset(\n",
    "            {'u': (['time', 'p', 'lat', 'lon'],uvz['u'].data),\n",
    "                      'v': (['time', 'p', 'lat', 'lon'],uvz['v'].data),\n",
    "                      'z': (['time', 'p', 'lat', 'lon'],uvz['z'].data)},\n",
    "                     coords={'time': pd.to_datetime(uvz['date'], format=\"%Y%m%d\"),\n",
    "                             'p': uvz['pressure_level'].data,\n",
    "                             'lat': uvz['latitude'].data,\n",
    "                             'lon': uvz['longitude'].data})\n",
    "    uvz = uvz.sel(time=slice('1961-01-01', '2022-12-31'))\n",
    "    uvz = uvz.sel(time=uvz['time.month'].isin([6, 7, 8])).groupby('time.year').mean('time')\n",
    "    uvz.to_netcdf(r\"D:\\PyFile\\p2\\data\\uvz_678.nc\")\n",
    "uvz = uvz.sel(p=500).transpose('lat', 'lon', 'year')  # 500hPa\n",
    "uvz_clim = uvz.mean('year')\n",
    "\n",
    "try:\n",
    "    t2m = xr.open_dataset(r\"D:\\PyFile\\p2\\data\\t2m_678.nc\")\n",
    "except:\n",
    "    t2m = xr.open_dataset(r\"E:\\data\\ERA5\\ERA5_singleLev\\ERA5_sgLEv.nc\")['t2m']\n",
    "    t2m = t2m.sel(date=slice('1961-01-01', '2023-12-31'))\n",
    "    t2m = xr.Dataset(\n",
    "            {'t2m': (['time', 'lat', 'lon'],t2m.data)},\n",
    "                     coords={'time': pd.to_datetime(t2m['date'], format=\"%Y%m%d\"),\n",
    "                             'lat': t2m['latitude'].data,\n",
    "                             'lon': t2m['longitude'].data})\n",
    "    t2m = t2m.sel(time=slice('1961-01-01', '2022-12-31'))\n",
    "    t2m = t2m.sel(time=t2m['time.month'].isin([6, 7, 8])).groupby('time.year').mean('time')\n",
    "    t2m.to_netcdf(r\"D:\\PyFile\\p2\\data\\t2m_678.nc\")\n",
    "t2m = t2m.transpose('lat', 'lon', 'year')\n",
    "t2m_clim = t2m.mean('year')"
   ],
   "outputs": [],
   "execution_count": 21
  },
  {
   "metadata": {
    "ExecuteTime": {
     "end_time": "2025-01-07T09:07:21.503883Z",
     "start_time": "2025-01-07T09:07:21.341391Z"
    }
   },
   "cell_type": "code",
   "source": "uvz['u'].transpose('year', 'lat', 'lon').data.shape",
   "id": "beac306a506458af",
   "outputs": [
    {
     "data": {
      "text/plain": [
       "(62, 361, 720)"
      ]
     },
     "execution_count": 8,
     "metadata": {},
     "output_type": "execute_result"
    }
   ],
   "execution_count": 8
  },
  {
   "metadata": {
    "collapsed": true,
    "ExecuteTime": {
     "end_time": "2025-01-07T10:28:26.582313Z",
     "start_time": "2025-01-07T10:28:16.219095Z"
    }
   },
   "cell_type": "code",
   "source": [
    "fig = plt.figure(figsize=(10, 5))\n",
    "for i in K_type['type']:\n",
    "    picloc = int(100 + len(K_type['type'])*10 + i)\n",
    "    time_ser = K_type.sel(type=i)['K'].data\n",
    "    corr_K_u = corr(time_ser, uvz['u'].transpose('year', 'lat', 'lon').data)\n",
    "    corr_K_v = corr(time_ser, uvz['v'].transpose('year', 'lat', 'lon').data)\n",
    "    corr_K_z = corr(time_ser, uvz['z'].transpose('year', 'lat', 'lon').data)\n",
    "    corr_K_t2m = corr(time_ser, t2m['t2m'].transpose('year', 'lat', 'lon').data)\n",
    "    pic(fig, picloc, uvz['lat'], uvz['lon'], corr_K_u, corr_K_v, corr_K_z, corr_K_t2m, t2m)\n",
    "plt.show()"
   ],
   "id": "initial_id",
   "outputs": [
    {
     "ename": "TypeError",
     "evalue": "Input z must be 2D, not 3D",
     "output_type": "error",
     "traceback": [
      "\u001B[1;31m---------------------------------------------------------------------------\u001B[0m",
      "\u001B[1;31mTypeError\u001B[0m                                 Traceback (most recent call last)",
      "Cell \u001B[1;32mIn[19], line 9\u001B[0m\n\u001B[0;32m      7\u001B[0m     corr_K_z \u001B[38;5;241m=\u001B[39m corr(time_ser, uvz[\u001B[38;5;124m'\u001B[39m\u001B[38;5;124mz\u001B[39m\u001B[38;5;124m'\u001B[39m]\u001B[38;5;241m.\u001B[39mtranspose(\u001B[38;5;124m'\u001B[39m\u001B[38;5;124myear\u001B[39m\u001B[38;5;124m'\u001B[39m, \u001B[38;5;124m'\u001B[39m\u001B[38;5;124mlat\u001B[39m\u001B[38;5;124m'\u001B[39m, \u001B[38;5;124m'\u001B[39m\u001B[38;5;124mlon\u001B[39m\u001B[38;5;124m'\u001B[39m)\u001B[38;5;241m.\u001B[39mdata)\n\u001B[0;32m      8\u001B[0m     corr_K_t2m \u001B[38;5;241m=\u001B[39m corr(time_ser, t2m[\u001B[38;5;124m'\u001B[39m\u001B[38;5;124mt2m\u001B[39m\u001B[38;5;124m'\u001B[39m]\u001B[38;5;241m.\u001B[39mtranspose(\u001B[38;5;124m'\u001B[39m\u001B[38;5;124myear\u001B[39m\u001B[38;5;124m'\u001B[39m, \u001B[38;5;124m'\u001B[39m\u001B[38;5;124mlat\u001B[39m\u001B[38;5;124m'\u001B[39m, \u001B[38;5;124m'\u001B[39m\u001B[38;5;124mlon\u001B[39m\u001B[38;5;124m'\u001B[39m)\u001B[38;5;241m.\u001B[39mdata)\n\u001B[1;32m----> 9\u001B[0m     \u001B[43mpic\u001B[49m\u001B[43m(\u001B[49m\u001B[43mfig\u001B[49m\u001B[43m,\u001B[49m\u001B[43m \u001B[49m\u001B[43mpicloc\u001B[49m\u001B[43m,\u001B[49m\u001B[43m \u001B[49m\u001B[43muvz\u001B[49m\u001B[43m[\u001B[49m\u001B[38;5;124;43m'\u001B[39;49m\u001B[38;5;124;43mlat\u001B[39;49m\u001B[38;5;124;43m'\u001B[39;49m\u001B[43m]\u001B[49m\u001B[43m,\u001B[49m\u001B[43m \u001B[49m\u001B[43muvz\u001B[49m\u001B[43m[\u001B[49m\u001B[38;5;124;43m'\u001B[39;49m\u001B[38;5;124;43mlon\u001B[39;49m\u001B[38;5;124;43m'\u001B[39;49m\u001B[43m]\u001B[49m\u001B[43m,\u001B[49m\u001B[43m \u001B[49m\u001B[43mcorr_K_u\u001B[49m\u001B[43m,\u001B[49m\u001B[43m \u001B[49m\u001B[43mcorr_K_v\u001B[49m\u001B[43m,\u001B[49m\u001B[43m \u001B[49m\u001B[43mcorr_K_z\u001B[49m\u001B[43m,\u001B[49m\u001B[43m \u001B[49m\u001B[43mcorr_K_t2m\u001B[49m\u001B[43m,\u001B[49m\u001B[43m \u001B[49m\u001B[43mt2m\u001B[49m\u001B[43m)\u001B[49m\n\u001B[0;32m     10\u001B[0m plt\u001B[38;5;241m.\u001B[39mshow()\n",
      "Cell \u001B[1;32mIn[18], line 21\u001B[0m, in \u001B[0;36mpic\u001B[1;34m(fig, pic_loc, lat, lon, corr_u, corr_v, corr_z, corr_t2m, t2m)\u001B[0m\n\u001B[0;32m     19\u001B[0m contf \u001B[38;5;241m=\u001B[39m ax\u001B[38;5;241m.\u001B[39mcontourf(t2m[\u001B[38;5;124m'\u001B[39m\u001B[38;5;124mlon\u001B[39m\u001B[38;5;124m'\u001B[39m], t2m[\u001B[38;5;124m'\u001B[39m\u001B[38;5;124mlat\u001B[39m\u001B[38;5;124m'\u001B[39m], corr_t2m, cmap\u001B[38;5;241m=\u001B[39m\u001B[38;5;124m'\u001B[39m\u001B[38;5;124mcoolwarm\u001B[39m\u001B[38;5;124m'\u001B[39m, levels\u001B[38;5;241m=\u001B[39m[\u001B[38;5;241m-\u001B[39m\u001B[38;5;241m1\u001B[39m, \u001B[38;5;241m-\u001B[39m\u001B[38;5;241m0.8\u001B[39m, \u001B[38;5;241m-\u001B[39m\u001B[38;5;241m0.6\u001B[39m, \u001B[38;5;241m-\u001B[39m\u001B[38;5;241m0.4\u001B[39m, \u001B[38;5;241m-\u001B[39m\u001B[38;5;241m0.2\u001B[39m, \u001B[38;5;241m0.2\u001B[39m, \u001B[38;5;241m0.4\u001B[39m, \u001B[38;5;241m0.6\u001B[39m, \u001B[38;5;241m0.8\u001B[39m, \u001B[38;5;241m1\u001B[39m], extend\u001B[38;5;241m=\u001B[39m\u001B[38;5;124m'\u001B[39m\u001B[38;5;124mboth\u001B[39m\u001B[38;5;124m'\u001B[39m)\n\u001B[0;32m     20\u001B[0m cont \u001B[38;5;241m=\u001B[39m ax\u001B[38;5;241m.\u001B[39mcontour(lon, lat, corr_z, colors\u001B[38;5;241m=\u001B[39m\u001B[38;5;124m'\u001B[39m\u001B[38;5;124mred\u001B[39m\u001B[38;5;124m'\u001B[39m, levels\u001B[38;5;241m=\u001B[39m[\u001B[38;5;241m-\u001B[39m\u001B[38;5;241m1\u001B[39m, \u001B[38;5;241m-\u001B[39m\u001B[38;5;241m0.8\u001B[39m, \u001B[38;5;241m-\u001B[39m\u001B[38;5;241m0.6\u001B[39m, \u001B[38;5;241m-\u001B[39m\u001B[38;5;241m0.4\u001B[39m, \u001B[38;5;241m-\u001B[39m\u001B[38;5;241m0.2\u001B[39m, \u001B[38;5;241m0.2\u001B[39m, \u001B[38;5;241m0.4\u001B[39m, \u001B[38;5;241m0.6\u001B[39m, \u001B[38;5;241m0.8\u001B[39m, \u001B[38;5;241m1\u001B[39m])\n\u001B[1;32m---> 21\u001B[0m cont_clim \u001B[38;5;241m=\u001B[39m \u001B[43max\u001B[49m\u001B[38;5;241;43m.\u001B[39;49m\u001B[43mcontour\u001B[49m\u001B[43m(\u001B[49m\u001B[43mlon\u001B[49m\u001B[43m,\u001B[49m\u001B[43m \u001B[49m\u001B[43mlat\u001B[49m\u001B[43m,\u001B[49m\u001B[43m \u001B[49m\u001B[43muvz_clim\u001B[49m\u001B[38;5;241;43m.\u001B[39;49m\u001B[43mto_array\u001B[49m\u001B[43m(\u001B[49m\u001B[43m)\u001B[49m\u001B[43m,\u001B[49m\u001B[43m \u001B[49m\u001B[43mcolors\u001B[49m\u001B[38;5;241;43m=\u001B[39;49m\u001B[38;5;124;43m'\u001B[39;49m\u001B[38;5;124;43mk\u001B[39;49m\u001B[38;5;124;43m'\u001B[39;49m\u001B[43m,\u001B[49m\u001B[43m \u001B[49m\u001B[43mlevels\u001B[49m\u001B[38;5;241;43m=\u001B[39;49m\u001B[38;5;241;43m5\u001B[39;49m\u001B[43m)\u001B[49m\n\u001B[0;32m     22\u001B[0m Cq \u001B[38;5;241m=\u001B[39m Curlyquiver(ax, lon, lat, corr_u, corr_v,\n\u001B[0;32m     23\u001B[0m                               lon_trunc\u001B[38;5;241m=\u001B[39m\u001B[38;5;241m-\u001B[39m\u001B[38;5;241m67.5\u001B[39m, arrowsize\u001B[38;5;241m=\u001B[39m\u001B[38;5;241m.5\u001B[39m, scale\u001B[38;5;241m=\u001B[39m\u001B[38;5;241m40\u001B[39m, linewidth\u001B[38;5;241m=\u001B[39m\u001B[38;5;241m0.4\u001B[39m, regrid\u001B[38;5;241m=\u001B[39m\u001B[38;5;241m20\u001B[39m,\n\u001B[0;32m     24\u001B[0m                               transform\u001B[38;5;241m=\u001B[39mccrs\u001B[38;5;241m.\u001B[39mPlateCarree(central_longitude\u001B[38;5;241m=\u001B[39m\u001B[38;5;241m0\u001B[39m))\n\u001B[0;32m     25\u001B[0m Cq\u001B[38;5;241m.\u001B[39mkey(fig, U\u001B[38;5;241m=\u001B[39m\u001B[38;5;241m1\u001B[39m, label\u001B[38;5;241m=\u001B[39m\u001B[38;5;124m'\u001B[39m\u001B[38;5;124m1\u001B[39m\u001B[38;5;124m'\u001B[39m, lr\u001B[38;5;241m=\u001B[39m\u001B[38;5;241m-\u001B[39m\u001B[38;5;241m1.1\u001B[39m)\n",
      "File \u001B[1;32m~\\.conda\\envs\\Meteorological\\lib\\site-packages\\cartopy\\mpl\\geoaxes.py:315\u001B[0m, in \u001B[0;36m_add_transform.<locals>.wrapper\u001B[1;34m(self, *args, **kwargs)\u001B[0m\n\u001B[0;32m    310\u001B[0m     \u001B[38;5;28;01mraise\u001B[39;00m \u001B[38;5;167;01mValueError\u001B[39;00m(\u001B[38;5;124mf\u001B[39m\u001B[38;5;124m'\u001B[39m\u001B[38;5;124mInvalid transform: Spherical \u001B[39m\u001B[38;5;132;01m{\u001B[39;00mfunc\u001B[38;5;241m.\u001B[39m\u001B[38;5;18m__name__\u001B[39m\u001B[38;5;132;01m}\u001B[39;00m\u001B[38;5;124m \u001B[39m\u001B[38;5;124m'\u001B[39m\n\u001B[0;32m    311\u001B[0m                      \u001B[38;5;124m'\u001B[39m\u001B[38;5;124mis not supported - consider using \u001B[39m\u001B[38;5;124m'\u001B[39m\n\u001B[0;32m    312\u001B[0m                      \u001B[38;5;124m'\u001B[39m\u001B[38;5;124mPlateCarree/RotatedPole.\u001B[39m\u001B[38;5;124m'\u001B[39m)\n\u001B[0;32m    314\u001B[0m kwargs[\u001B[38;5;124m'\u001B[39m\u001B[38;5;124mtransform\u001B[39m\u001B[38;5;124m'\u001B[39m] \u001B[38;5;241m=\u001B[39m transform\n\u001B[1;32m--> 315\u001B[0m \u001B[38;5;28;01mreturn\u001B[39;00m func(\u001B[38;5;28mself\u001B[39m, \u001B[38;5;241m*\u001B[39margs, \u001B[38;5;241m*\u001B[39m\u001B[38;5;241m*\u001B[39mkwargs)\n",
      "File \u001B[1;32m~\\.conda\\envs\\Meteorological\\lib\\site-packages\\cartopy\\mpl\\geoaxes.py:359\u001B[0m, in \u001B[0;36m_add_transform_first.<locals>.wrapper\u001B[1;34m(self, *args, **kwargs)\u001B[0m\n\u001B[0;32m    357\u001B[0m     \u001B[38;5;66;03m# Use the new points as the input arguments\u001B[39;00m\n\u001B[0;32m    358\u001B[0m     args \u001B[38;5;241m=\u001B[39m (x, y, z) \u001B[38;5;241m+\u001B[39m args[\u001B[38;5;241m3\u001B[39m:]\n\u001B[1;32m--> 359\u001B[0m \u001B[38;5;28;01mreturn\u001B[39;00m func(\u001B[38;5;28mself\u001B[39m, \u001B[38;5;241m*\u001B[39margs, \u001B[38;5;241m*\u001B[39m\u001B[38;5;241m*\u001B[39mkwargs)\n",
      "File \u001B[1;32m~\\.conda\\envs\\Meteorological\\lib\\site-packages\\cartopy\\mpl\\geoaxes.py:1604\u001B[0m, in \u001B[0;36mGeoAxes.contour\u001B[1;34m(self, *args, **kwargs)\u001B[0m\n\u001B[0;32m   1582\u001B[0m \u001B[38;5;129m@_add_transform\u001B[39m\n\u001B[0;32m   1583\u001B[0m \u001B[38;5;129m@_add_transform_first\u001B[39m\n\u001B[0;32m   1584\u001B[0m \u001B[38;5;28;01mdef\u001B[39;00m \u001B[38;5;21mcontour\u001B[39m(\u001B[38;5;28mself\u001B[39m, \u001B[38;5;241m*\u001B[39margs, \u001B[38;5;241m*\u001B[39m\u001B[38;5;241m*\u001B[39mkwargs):\n\u001B[0;32m   1585\u001B[0m \u001B[38;5;250m    \u001B[39m\u001B[38;5;124;03m\"\"\"\u001B[39;00m\n\u001B[0;32m   1586\u001B[0m \u001B[38;5;124;03m    Add the \"transform\" keyword to :func:`~matplotlib.pyplot.contour`.\u001B[39;00m\n\u001B[0;32m   1587\u001B[0m \n\u001B[1;32m   (...)\u001B[0m\n\u001B[0;32m   1602\u001B[0m \n\u001B[0;32m   1603\u001B[0m \u001B[38;5;124;03m    \"\"\"\u001B[39;00m\n\u001B[1;32m-> 1604\u001B[0m     result \u001B[38;5;241m=\u001B[39m \u001B[38;5;28msuper\u001B[39m()\u001B[38;5;241m.\u001B[39mcontour(\u001B[38;5;241m*\u001B[39margs, \u001B[38;5;241m*\u001B[39m\u001B[38;5;241m*\u001B[39mkwargs)\n\u001B[0;32m   1606\u001B[0m     \u001B[38;5;66;03m# We need to compute the dataLim correctly for contours.\u001B[39;00m\n\u001B[0;32m   1607\u001B[0m     \u001B[38;5;28;01mif\u001B[39;00m _MPL_VERSION\u001B[38;5;241m.\u001B[39mrelease[:\u001B[38;5;241m2\u001B[39m] \u001B[38;5;241m<\u001B[39m (\u001B[38;5;241m3\u001B[39m, \u001B[38;5;241m8\u001B[39m):\n",
      "File \u001B[1;32m~\\.conda\\envs\\Meteorological\\lib\\site-packages\\matplotlib\\__init__.py:1473\u001B[0m, in \u001B[0;36m_preprocess_data.<locals>.inner\u001B[1;34m(ax, data, *args, **kwargs)\u001B[0m\n\u001B[0;32m   1470\u001B[0m \u001B[38;5;129m@functools\u001B[39m\u001B[38;5;241m.\u001B[39mwraps(func)\n\u001B[0;32m   1471\u001B[0m \u001B[38;5;28;01mdef\u001B[39;00m \u001B[38;5;21minner\u001B[39m(ax, \u001B[38;5;241m*\u001B[39margs, data\u001B[38;5;241m=\u001B[39m\u001B[38;5;28;01mNone\u001B[39;00m, \u001B[38;5;241m*\u001B[39m\u001B[38;5;241m*\u001B[39mkwargs):\n\u001B[0;32m   1472\u001B[0m     \u001B[38;5;28;01mif\u001B[39;00m data \u001B[38;5;129;01mis\u001B[39;00m \u001B[38;5;28;01mNone\u001B[39;00m:\n\u001B[1;32m-> 1473\u001B[0m         \u001B[38;5;28;01mreturn\u001B[39;00m func(\n\u001B[0;32m   1474\u001B[0m             ax,\n\u001B[0;32m   1475\u001B[0m             \u001B[38;5;241m*\u001B[39m\u001B[38;5;28mmap\u001B[39m(sanitize_sequence, args),\n\u001B[0;32m   1476\u001B[0m             \u001B[38;5;241m*\u001B[39m\u001B[38;5;241m*\u001B[39m{k: sanitize_sequence(v) \u001B[38;5;28;01mfor\u001B[39;00m k, v \u001B[38;5;129;01min\u001B[39;00m kwargs\u001B[38;5;241m.\u001B[39mitems()})\n\u001B[0;32m   1478\u001B[0m     bound \u001B[38;5;241m=\u001B[39m new_sig\u001B[38;5;241m.\u001B[39mbind(ax, \u001B[38;5;241m*\u001B[39margs, \u001B[38;5;241m*\u001B[39m\u001B[38;5;241m*\u001B[39mkwargs)\n\u001B[0;32m   1479\u001B[0m     auto_label \u001B[38;5;241m=\u001B[39m (bound\u001B[38;5;241m.\u001B[39marguments\u001B[38;5;241m.\u001B[39mget(label_namer)\n\u001B[0;32m   1480\u001B[0m                   \u001B[38;5;129;01mor\u001B[39;00m bound\u001B[38;5;241m.\u001B[39mkwargs\u001B[38;5;241m.\u001B[39mget(label_namer))\n",
      "File \u001B[1;32m~\\.conda\\envs\\Meteorological\\lib\\site-packages\\matplotlib\\axes\\_axes.py:6659\u001B[0m, in \u001B[0;36mAxes.contour\u001B[1;34m(self, *args, **kwargs)\u001B[0m\n\u001B[0;32m   6650\u001B[0m \u001B[38;5;250m\u001B[39m\u001B[38;5;124;03m\"\"\"\u001B[39;00m\n\u001B[0;32m   6651\u001B[0m \u001B[38;5;124;03mPlot contour lines.\u001B[39;00m\n\u001B[0;32m   6652\u001B[0m \n\u001B[1;32m   (...)\u001B[0m\n\u001B[0;32m   6656\u001B[0m \u001B[38;5;124;03m%(contour_doc)s\u001B[39;00m\n\u001B[0;32m   6657\u001B[0m \u001B[38;5;124;03m\"\"\"\u001B[39;00m\n\u001B[0;32m   6658\u001B[0m kwargs[\u001B[38;5;124m'\u001B[39m\u001B[38;5;124mfilled\u001B[39m\u001B[38;5;124m'\u001B[39m] \u001B[38;5;241m=\u001B[39m \u001B[38;5;28;01mFalse\u001B[39;00m\n\u001B[1;32m-> 6659\u001B[0m contours \u001B[38;5;241m=\u001B[39m mcontour\u001B[38;5;241m.\u001B[39mQuadContourSet(\u001B[38;5;28mself\u001B[39m, \u001B[38;5;241m*\u001B[39margs, \u001B[38;5;241m*\u001B[39m\u001B[38;5;241m*\u001B[39mkwargs)\n\u001B[0;32m   6660\u001B[0m \u001B[38;5;28mself\u001B[39m\u001B[38;5;241m.\u001B[39m_request_autoscale_view()\n\u001B[0;32m   6661\u001B[0m \u001B[38;5;28;01mreturn\u001B[39;00m contours\n",
      "File \u001B[1;32m~\\.conda\\envs\\Meteorological\\lib\\site-packages\\matplotlib\\contour.py:813\u001B[0m, in \u001B[0;36mContourSet.__init__\u001B[1;34m(self, ax, levels, filled, linewidths, linestyles, hatches, alpha, origin, extent, cmap, colors, norm, vmin, vmax, extend, antialiased, nchunk, locator, transform, negative_linestyles, clip_path, *args, **kwargs)\u001B[0m\n\u001B[0;32m    809\u001B[0m \u001B[38;5;28;01mif\u001B[39;00m \u001B[38;5;28mself\u001B[39m\u001B[38;5;241m.\u001B[39mnegative_linestyles \u001B[38;5;129;01mis\u001B[39;00m \u001B[38;5;28;01mNone\u001B[39;00m:\n\u001B[0;32m    810\u001B[0m     \u001B[38;5;28mself\u001B[39m\u001B[38;5;241m.\u001B[39mnegative_linestyles \u001B[38;5;241m=\u001B[39m \\\n\u001B[0;32m    811\u001B[0m         mpl\u001B[38;5;241m.\u001B[39mrcParams[\u001B[38;5;124m'\u001B[39m\u001B[38;5;124mcontour.negative_linestyle\u001B[39m\u001B[38;5;124m'\u001B[39m]\n\u001B[1;32m--> 813\u001B[0m kwargs \u001B[38;5;241m=\u001B[39m \u001B[38;5;28mself\u001B[39m\u001B[38;5;241m.\u001B[39m_process_args(\u001B[38;5;241m*\u001B[39margs, \u001B[38;5;241m*\u001B[39m\u001B[38;5;241m*\u001B[39mkwargs)\n\u001B[0;32m    814\u001B[0m \u001B[38;5;28mself\u001B[39m\u001B[38;5;241m.\u001B[39m_process_levels()\n\u001B[0;32m    816\u001B[0m \u001B[38;5;28mself\u001B[39m\u001B[38;5;241m.\u001B[39m_extend_min \u001B[38;5;241m=\u001B[39m \u001B[38;5;28mself\u001B[39m\u001B[38;5;241m.\u001B[39mextend \u001B[38;5;129;01min\u001B[39;00m [\u001B[38;5;124m'\u001B[39m\u001B[38;5;124mmin\u001B[39m\u001B[38;5;124m'\u001B[39m, \u001B[38;5;124m'\u001B[39m\u001B[38;5;124mboth\u001B[39m\u001B[38;5;124m'\u001B[39m]\n",
      "File \u001B[1;32m~\\.conda\\envs\\Meteorological\\lib\\site-packages\\matplotlib\\contour.py:1470\u001B[0m, in \u001B[0;36mQuadContourSet._process_args\u001B[1;34m(self, corner_mask, algorithm, *args, **kwargs)\u001B[0m\n\u001B[0;32m   1467\u001B[0m         corner_mask \u001B[38;5;241m=\u001B[39m mpl\u001B[38;5;241m.\u001B[39mrcParams[\u001B[38;5;124m'\u001B[39m\u001B[38;5;124mcontour.corner_mask\u001B[39m\u001B[38;5;124m'\u001B[39m]\n\u001B[0;32m   1468\u001B[0m \u001B[38;5;28mself\u001B[39m\u001B[38;5;241m.\u001B[39m_corner_mask \u001B[38;5;241m=\u001B[39m corner_mask\n\u001B[1;32m-> 1470\u001B[0m x, y, z \u001B[38;5;241m=\u001B[39m \u001B[38;5;28;43mself\u001B[39;49m\u001B[38;5;241;43m.\u001B[39;49m\u001B[43m_contour_args\u001B[49m\u001B[43m(\u001B[49m\u001B[43margs\u001B[49m\u001B[43m,\u001B[49m\u001B[43m \u001B[49m\u001B[43mkwargs\u001B[49m\u001B[43m)\u001B[49m\n\u001B[0;32m   1472\u001B[0m contour_generator \u001B[38;5;241m=\u001B[39m contourpy\u001B[38;5;241m.\u001B[39mcontour_generator(\n\u001B[0;32m   1473\u001B[0m     x, y, z, name\u001B[38;5;241m=\u001B[39m\u001B[38;5;28mself\u001B[39m\u001B[38;5;241m.\u001B[39m_algorithm, corner_mask\u001B[38;5;241m=\u001B[39m\u001B[38;5;28mself\u001B[39m\u001B[38;5;241m.\u001B[39m_corner_mask,\n\u001B[0;32m   1474\u001B[0m     line_type\u001B[38;5;241m=\u001B[39mcontourpy\u001B[38;5;241m.\u001B[39mLineType\u001B[38;5;241m.\u001B[39mSeparateCode,\n\u001B[0;32m   1475\u001B[0m     fill_type\u001B[38;5;241m=\u001B[39mcontourpy\u001B[38;5;241m.\u001B[39mFillType\u001B[38;5;241m.\u001B[39mOuterCode,\n\u001B[0;32m   1476\u001B[0m     chunk_size\u001B[38;5;241m=\u001B[39m\u001B[38;5;28mself\u001B[39m\u001B[38;5;241m.\u001B[39mnchunk)\n\u001B[0;32m   1478\u001B[0m t \u001B[38;5;241m=\u001B[39m \u001B[38;5;28mself\u001B[39m\u001B[38;5;241m.\u001B[39mget_transform()\n",
      "File \u001B[1;32m~\\.conda\\envs\\Meteorological\\lib\\site-packages\\matplotlib\\contour.py:1510\u001B[0m, in \u001B[0;36mQuadContourSet._contour_args\u001B[1;34m(self, args, kwargs)\u001B[0m\n\u001B[0;32m   1508\u001B[0m \u001B[38;5;28;01melif\u001B[39;00m \u001B[38;5;241m2\u001B[39m \u001B[38;5;241m<\u001B[39m nargs \u001B[38;5;241m<\u001B[39m\u001B[38;5;241m=\u001B[39m \u001B[38;5;241m4\u001B[39m:\n\u001B[0;32m   1509\u001B[0m     x, y, z_orig, \u001B[38;5;241m*\u001B[39margs \u001B[38;5;241m=\u001B[39m args\n\u001B[1;32m-> 1510\u001B[0m     x, y, z \u001B[38;5;241m=\u001B[39m \u001B[38;5;28;43mself\u001B[39;49m\u001B[38;5;241;43m.\u001B[39;49m\u001B[43m_check_xyz\u001B[49m\u001B[43m(\u001B[49m\u001B[43mx\u001B[49m\u001B[43m,\u001B[49m\u001B[43m \u001B[49m\u001B[43my\u001B[49m\u001B[43m,\u001B[49m\u001B[43m \u001B[49m\u001B[43mz_orig\u001B[49m\u001B[43m,\u001B[49m\u001B[43m \u001B[49m\u001B[43mkwargs\u001B[49m\u001B[43m)\u001B[49m\n\u001B[0;32m   1512\u001B[0m \u001B[38;5;28;01melse\u001B[39;00m:\n\u001B[0;32m   1513\u001B[0m     \u001B[38;5;28;01mraise\u001B[39;00m _api\u001B[38;5;241m.\u001B[39mnargs_error(fn, takes\u001B[38;5;241m=\u001B[39m\u001B[38;5;124m\"\u001B[39m\u001B[38;5;124mfrom 1 to 4\u001B[39m\u001B[38;5;124m\"\u001B[39m, given\u001B[38;5;241m=\u001B[39mnargs)\n",
      "File \u001B[1;32m~\\.conda\\envs\\Meteorological\\lib\\site-packages\\matplotlib\\contour.py:1536\u001B[0m, in \u001B[0;36mQuadContourSet._check_xyz\u001B[1;34m(self, x, y, z, kwargs)\u001B[0m\n\u001B[0;32m   1533\u001B[0m z \u001B[38;5;241m=\u001B[39m ma\u001B[38;5;241m.\u001B[39masarray(z)\n\u001B[0;32m   1535\u001B[0m \u001B[38;5;28;01mif\u001B[39;00m z\u001B[38;5;241m.\u001B[39mndim \u001B[38;5;241m!=\u001B[39m \u001B[38;5;241m2\u001B[39m:\n\u001B[1;32m-> 1536\u001B[0m     \u001B[38;5;28;01mraise\u001B[39;00m \u001B[38;5;167;01mTypeError\u001B[39;00m(\u001B[38;5;124mf\u001B[39m\u001B[38;5;124m\"\u001B[39m\u001B[38;5;124mInput z must be 2D, not \u001B[39m\u001B[38;5;132;01m{\u001B[39;00mz\u001B[38;5;241m.\u001B[39mndim\u001B[38;5;132;01m}\u001B[39;00m\u001B[38;5;124mD\u001B[39m\u001B[38;5;124m\"\u001B[39m)\n\u001B[0;32m   1537\u001B[0m \u001B[38;5;28;01mif\u001B[39;00m z\u001B[38;5;241m.\u001B[39mshape[\u001B[38;5;241m0\u001B[39m] \u001B[38;5;241m<\u001B[39m \u001B[38;5;241m2\u001B[39m \u001B[38;5;129;01mor\u001B[39;00m z\u001B[38;5;241m.\u001B[39mshape[\u001B[38;5;241m1\u001B[39m] \u001B[38;5;241m<\u001B[39m \u001B[38;5;241m2\u001B[39m:\n\u001B[0;32m   1538\u001B[0m     \u001B[38;5;28;01mraise\u001B[39;00m \u001B[38;5;167;01mTypeError\u001B[39;00m(\u001B[38;5;124mf\u001B[39m\u001B[38;5;124m\"\u001B[39m\u001B[38;5;124mInput z must be at least a (2, 2) shaped array, \u001B[39m\u001B[38;5;124m\"\u001B[39m\n\u001B[0;32m   1539\u001B[0m                     \u001B[38;5;124mf\u001B[39m\u001B[38;5;124m\"\u001B[39m\u001B[38;5;124mbut has shape \u001B[39m\u001B[38;5;132;01m{\u001B[39;00mz\u001B[38;5;241m.\u001B[39mshape\u001B[38;5;132;01m}\u001B[39;00m\u001B[38;5;124m\"\u001B[39m)\n",
      "\u001B[1;31mTypeError\u001B[0m: Input z must be 2D, not 3D"
     ]
    },
    {
     "data": {
      "text/plain": [
       "<Figure size 1000x500 with 1 Axes>"
      ],
      "image/png": "[encoded data removed]"
     },
     "metadata": {},
     "output_type": "display_data"
    }
   ],
   "execution_count": 19
  }
 ],
 "metadata": {
  "kernelspec": {
   "display_name": "Python 3",
   "language": "python",
   "name": "python3"
  },
  "language_info": {
   "codemirror_mode": {
    "name": "ipython",
    "version": 2
   },
   "file_extension": ".py",
   "mimetype": "text/x-python",
   "name": "python",
   "nbconvert_exporter": "python",
   "pygments_lexer": "ipython2",
   "version": "2.7.6"
  }
 },
 "nbformat": 4,
 "nbformat_minor": 5
}
