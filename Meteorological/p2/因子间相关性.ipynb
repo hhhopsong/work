{
 "cells": [
  {
   "cell_type": "code",
   "id": "2e7ddc49e99af0cb",
   "metadata": {
    "ExecuteTime": {
     "end_time": "2025-04-20T09:26:13.318001Z",
     "start_time": "2025-04-20T09:26:11.544662Z"
    }
   },
   "source": [
    "import pandas as pd\n",
    "import xarray as xr\n",
    "import numpy as np\n",
    "import scipy as scipy\n",
    "from toolbar.significance_test import r_test"
   ],
   "outputs": [],
   "execution_count": 2
  },
  {
   "metadata": {
    "collapsed": true,
    "ExecuteTime": {
     "end_time": "2025-04-20T09:26:16.356205Z",
     "start_time": "2025-04-20T09:26:13.336637Z"
    }
   },
   "cell_type": "code",
   "source": "K_type = xr.open_dataset(r\"D:/PyFile/p2/data/Time_type_AverFiltAll0.9%_0.3%_3.nc\")",
   "id": "initial_id",
   "outputs": [],
   "execution_count": 3
  },
  {
   "metadata": {
    "ExecuteTime": {
     "end_time": "2025-04-18T08:47:02.529905Z",
     "start_time": "2025-04-18T08:47:02.507882Z"
    }
   },
   "cell_type": "code",
   "source": [
    "print('90%', r_test(62, 0.10))\n",
    "print('95%', r_test(62, 0.05))\n",
    "print('99%', r_test(62, 0.01))"
   ],
   "id": "c581417c12069341",
   "outputs": [
    {
     "name": "stdout",
     "output_type": "stream",
     "text": [
      "90% 0.21083186294286696\n",
      "95% 0.2500349005300471\n",
      "99% 0.3248184473571816\n"
     ]
    }
   ],
   "execution_count": 15
  },
  {
   "metadata": {
    "ExecuteTime": {
     "end_time": "2025-04-16T06:12:22.935840Z",
     "start_time": "2025-04-16T06:12:22.909401Z"
    }
   },
   "cell_type": "code",
   "source": [
    "type_1 = K_type.sel(type=1)['K'][:-1]\n",
    "type_2 = K_type.sel(type=2)['K'][:-1]\n",
    "type_3 = K_type.sel(type=3)['K'][:-1]\n",
    "\n",
    "# 计算相关系数\n",
    "corr_123 = np.corrcoef([type_1, type_2, type_3])\n",
    "print(corr_123)"
   ],
   "id": "49c8554c6e2abdc6",
   "outputs": [
    {
     "name": "stdout",
     "output_type": "stream",
     "text": [
      "[[ 1.         -0.28453486 -0.16799297]\n",
      " [-0.28453486  1.          0.05889402]\n",
      " [-0.16799297  0.05889402  1.        ]]\n"
     ]
    }
   ],
   "execution_count": 45
  },
  {
   "metadata": {
    "ExecuteTime": {
     "end_time": "2025-04-18T08:37:38.225137Z",
     "start_time": "2025-04-18T08:37:38.176479Z"
    }
   },
   "cell_type": "code",
   "source": [
    "# 中下游主导型\n",
    "type_1 = K_type.sel(type=1)['K']\n",
    "index_1 = np.load(r\"D:\\PyFile\\p2\\data\\type1_LN.npy\")\n",
    "index_2 = np.load(r\"D:\\PyFile\\p2\\data\\type1_P_warm.npy\")\n",
    "\n",
    "corr = np.corrcoef([type_1, index_1, index_2])\n",
    "print(corr)\n",
    "\n",
    "# 计算偏相关\n",
    "corr_type_i1 = (corr[0,1] - corr[0,2] * corr[1,2]) / np.sqrt((1 - corr[0,2]**2) * (1 - corr[1,2]**2))\n",
    "print('因子1偏相关:',corr_type_i1)\n",
    "corr_type_i2 = (corr[0,2] - corr[0,1] * corr[1,2]) / np.sqrt((1 - corr[0,1]**2) * (1 - corr[1,2]**2))\n",
    "print('因子2偏相关:',corr_type_i2)\n",
    "\n",
    "# 新增回归分析代码\n",
    "import statsmodels.api as sm\n",
    "\n",
    "# 构建回归矩阵 (n samples × 2 features)\n",
    "X = np.column_stack((index_1, index_2))\n",
    "X = sm.add_constant(X)  # 添加常数项\n",
    "y = type_1.values\n",
    "\n",
    "# 执行回归\n",
    "model = sm.OLS(y, X).fit()\n",
    "\n",
    "# 输出回归结果\n",
    "print(\"\\n二元线性回归方程：\")\n",
    "print(f\"Y = {model.params[0]:.3f} + {model.params[1]:.3f}*X1 + {model.params[2]:.3f}*X2\")\n",
    "print(\"\\n回归结果摘要：\")\n",
    "print(model.summary())\n",
    "\n",
    "# 计算标准化回归系数（Beta系数）\n",
    "beta_coef = model.params[1:] * np.std(X[:,1:], axis=0) / np.std(y)\n",
    "print(\"\\n标准化回归系数：\")\n",
    "print(f\"Beta1(X1): {beta_coef[0]:.3f}, Beta2(X2): {beta_coef[1]:.3f}\")\n",
    "\n",
    "# 在回归结果后添加：\n",
    "print(\"\\n方差分解:\")\n",
    "print(f\"总解释方差 (R²): {model.rsquared:.2%}\")\n",
    "print(f\"因子1独特贡献: {beta_coef[0]**2:.2%}\")\n",
    "print(f\"因子2独特贡献: {beta_coef[1]**2:.2%}\")"
   ],
   "id": "b8fa3d822a538473",
   "outputs": [
    {
     "name": "stdout",
     "output_type": "stream",
     "text": [
      "[[1.         0.32217064 0.37765848]\n",
      " [0.32217064 1.         0.36505605]\n",
      " [0.37765848 0.36505605 1.        ]]\n",
      "因子1偏相关: 0.21379963441213856\n",
      "因子2偏相关: 0.2950576435313691\n",
      "\n",
      "二元线性回归方程：\n",
      "Y = 18.500 + 1.617*X1 + 2.281*X2\n",
      "\n",
      "回归结果摘要：\n",
      "                            OLS Regression Results                            \n",
      "==============================================================================\n",
      "Dep. Variable:                      y   R-squared:                       0.182\n",
      "Model:                            OLS   Adj. R-squared:                  0.154\n",
      "Method:                 Least Squares   F-statistic:                     6.555\n",
      "Date:                Fri, 18 Apr 2025   Prob (F-statistic):            0.00269\n",
      "Time:                        16:37:38   Log-Likelihood:                -207.52\n",
      "No. Observations:                  62   AIC:                             421.0\n",
      "Df Residuals:                      59   BIC:                             427.4\n",
      "Df Model:                           2                                         \n",
      "Covariance Type:            nonrobust                                         \n",
      "==============================================================================\n",
      "                 coef    std err          t      P>|t|      [0.025      0.975]\n",
      "------------------------------------------------------------------------------\n",
      "const         18.5000      0.895     20.664      0.000      16.709      20.291\n",
      "x1             1.6166      0.962      1.681      0.098      -0.308       3.541\n",
      "x2             2.2810      0.962      2.372      0.021       0.357       4.205\n",
      "==============================================================================\n",
      "Omnibus:                        0.122   Durbin-Watson:                   1.947\n",
      "Prob(Omnibus):                  0.941   Jarque-Bera (JB):                0.321\n",
      "Skew:                          -0.020   Prob(JB):                        0.852\n",
      "Kurtosis:                       2.650   Cond. No.                         1.47\n",
      "==============================================================================\n",
      "\n",
      "Notes:\n",
      "[1] Standard Errors assume that the covariance matrix of the errors is correctly specified.\n",
      "\n",
      "标准化回归系数：\n",
      "Beta1(X1): 0.213, Beta2(X2): 0.300\n",
      "\n",
      "方差分解:\n",
      "总解释方差 (R²): 18.18%\n",
      "因子1独特贡献: 4.52%\n",
      "因子2独特贡献: 9.00%\n"
     ]
    }
   ],
   "execution_count": 12
  },
  {
   "metadata": {
    "ExecuteTime": {
     "end_time": "2025-04-20T14:40:46.840722Z",
     "start_time": "2025-04-20T14:40:46.806283Z"
    }
   },
   "cell_type": "code",
   "source": [
    "# 全域一致型\n",
    "type_2 = K_type.sel(type=2)['K'][:-1]\n",
    "index_3 = np.load(r\"D:\\PyFile\\p2\\data\\type2_In_pre.npy\")\n",
    "index_4 = np.load(r\"D:\\PyFile\\p2\\data\\type2_LN.npy\")\n",
    "\n",
    "corr = np.corrcoef([type_2, index_3, index_4])\n",
    "print(corr)\n",
    "\n",
    "# 计算偏相关\n",
    "corr_type_i3 = (corr[0,1] - corr[0,2] * corr[1,2]) / np.sqrt((1 - corr[0,2]**2) * (1 - corr[1,2]**2))\n",
    "print('因子1偏相关:',corr_type_i3)\n",
    "corr_type_i4 = (corr[0,2] - corr[0,1] * corr[1,2]) / np.sqrt((1 - corr[0,1]**2) * (1 - corr[1,2]**2))\n",
    "print('因子2偏相关:',corr_type_i4)\n",
    "\n",
    "# 新增回归分析代码\n",
    "import statsmodels.api as sm\n",
    "\n",
    "# 构建回归矩阵 (n samples × 2 features)\n",
    "X = np.column_stack((index_3, index_4))\n",
    "X = sm.add_constant(X)  # 添加常数项\n",
    "y = type_2.values\n",
    "\n",
    "# 执行回归\n",
    "model = sm.OLS(y, X).fit()\n",
    "\n",
    "# 输出回归结果\n",
    "print(\"\\n二元线性回归方程：\")\n",
    "print(f\"Y = {model.params[0]:.3f} + {model.params[1]:.3f}*X1 + {model.params[2]:.3f}*X2\")\n",
    "print(\"\\n回归结果摘要：\")\n",
    "print(model.summary())\n",
    "\n",
    "# 计算标准化回归系数（Beta系数）\n",
    "beta_coef = model.params[1:] * np.std(X[:,1:], axis=0) / np.std(y)\n",
    "print(\"\\n标准化回归系数：\")\n",
    "print(f\"Beta1(X1): {beta_coef[0]:.3f}, Beta2(X2): {beta_coef[1]:.3f}\")\n",
    "\n",
    "# 在回归结果后添加：\n",
    "print(\"\\n方差分解:\")\n",
    "print(f\"总解释方差 (R²): {model.rsquared:.2%}\")\n",
    "print(f\"因子1独特贡献: {beta_coef[0]**2:.2%}\")\n",
    "print(f\"因子2独特贡献: {beta_coef[1]**2:.2%}\")"
   ],
   "id": "eec87f2a62b447f6",
   "outputs": [
    {
     "name": "stdout",
     "output_type": "stream",
     "text": [
      "[[1.         0.31606781 0.38520242]\n",
      " [0.31606781 1.         0.29138464]\n",
      " [0.38520242 0.29138464 1.        ]]\n",
      "因子1偏相关: 0.2308890014553651\n",
      "因子2偏相关: 0.32295696053750794\n",
      "\n",
      "二元线性回归方程：\n",
      "Y = 12.410 + 1.859*X1 + 2.674*X2\n",
      "\n",
      "回归结果摘要：\n",
      "                            OLS Regression Results                            \n",
      "==============================================================================\n",
      "Dep. Variable:                      y   R-squared:                       0.194\n",
      "Model:                            OLS   Adj. R-squared:                  0.166\n",
      "Method:                 Least Squares   F-statistic:                     6.970\n",
      "Date:                Sun, 20 Apr 2025   Prob (F-statistic):            0.00194\n",
      "Time:                        22:40:46   Log-Likelihood:                -209.43\n",
      "No. Observations:                  61   AIC:                             424.9\n",
      "Df Residuals:                      58   BIC:                             431.2\n",
      "Df Model:                           2                                         \n",
      "Covariance Type:            nonrobust                                         \n",
      "==============================================================================\n",
      "                 coef    std err          t      P>|t|      [0.025      0.975]\n",
      "------------------------------------------------------------------------------\n",
      "const         12.4098      0.984     12.609      0.000      10.440      14.380\n",
      "x1             1.8593      1.029      1.807      0.076      -0.200       3.919\n",
      "x2             2.6738      1.029      2.599      0.012       0.614       4.733\n",
      "==============================================================================\n",
      "Omnibus:                        4.137   Durbin-Watson:                   1.688\n",
      "Prob(Omnibus):                  0.126   Jarque-Bera (JB):                4.034\n",
      "Skew:                           0.590   Prob(JB):                        0.133\n",
      "Kurtosis:                       2.557   Cond. No.                         1.35\n",
      "==============================================================================\n",
      "\n",
      "Notes:\n",
      "[1] Standard Errors assume that the covariance matrix of the errors is correctly specified.\n",
      "\n",
      "标准化回归系数：\n",
      "Beta1(X1): 0.223, Beta2(X2): 0.320\n",
      "\n",
      "方差分解:\n",
      "总解释方差 (R²): 19.38%\n",
      "因子1独特贡献: 4.96%\n",
      "因子2独特贡献: 10.26%\n"
     ]
    }
   ],
   "execution_count": 13
  },
  {
   "metadata": {
    "ExecuteTime": {
     "end_time": "2025-04-16T07:29:01.566372Z",
     "start_time": "2025-04-16T07:29:01.527164Z"
    }
   },
   "cell_type": "code",
   "source": [
    "# 上游主导型\n",
    "type_3 = K_type.sel(type=3)['K']\n",
    "index_5 = np.load(r\"D:\\PyFile\\p2\\data\\type3_EL.npy\")\n",
    "index_6 = np.load(r\"D:\\PyFile\\p2\\data\\type3_P_cold.npy\")\n",
    "\n",
    "corr = np.corrcoef([type_3, index_5, index_6])\n",
    "print(corr)\n",
    "# 计算偏相关\n",
    "corr_type_i5 = (corr[0,1] - corr[0,2] * corr[1,2]) / np.sqrt((1 - corr[0,2]**2) * (1 - corr[1,2]**2))\n",
    "print('因子1偏相关:',corr_type_i5)\n",
    "corr_type_i6 = (corr[0,2] - corr[0,1] * corr[1,2]) / np.sqrt((1 - corr[0,1]**2) * (1 - corr[1,2]**2))\n",
    "print('因子2偏相关:',corr_type_i6)\n",
    "\n",
    "\n",
    "# 新增回归分析代码\n",
    "import statsmodels.api as sm\n",
    "\n",
    "# 构建回归矩阵 (n samples × 2 features)\n",
    "X = np.column_stack((index_5, index_6))\n",
    "X = sm.add_constant(X)  # 添加常数项\n",
    "y = type_3.values\n",
    "\n",
    "# 执行回归\n",
    "model = sm.OLS(y, X).fit()\n",
    "\n",
    "# 输出回归结果\n",
    "print(\"\\n二元线性回归方程：\")\n",
    "print(f\"Y = {model.params[0]:.3f} + {model.params[1]:.3f}*X1 + {model.params[2]:.3f}*X2\")\n",
    "print(\"\\n回归结果摘要：\")\n",
    "print(model.summary())\n",
    "\n",
    "# 计算标准化回归系数（Beta系数）\n",
    "beta_coef = model.params[1:] * np.std(X[:,1:], axis=0) / np.std(y)\n",
    "print(\"\\n标准化回归系数：\")\n",
    "print(f\"Beta1(X1): {beta_coef[0]:.3f}, Beta2(X2): {beta_coef[1]:.3f}\")\n",
    "\n",
    "# 在回归结果后添加：\n",
    "print(\"\\n方差分解:\")\n",
    "print(f\"总解释方差 (R²): {model.rsquared:.2%}\")\n",
    "print(f\"因子1独特贡献: {beta_coef[0]**2:.2%}\")\n",
    "print(f\"因子2独特贡献: {beta_coef[1]**2:.2%}\")"
   ],
   "id": "b4783c951fb130f",
   "outputs": [
    {
     "name": "stdout",
     "output_type": "stream",
     "text": [
      "[[1.         0.2398418  0.3355742 ]\n",
      " [0.2398418  1.         0.33584391]\n",
      " [0.3355742  0.33584391 1.        ]]\n",
      "因子1偏相关: 0.14329013033785581\n",
      "因子2偏相关: 0.27889089109353593\n",
      "\n",
      "二元线性回归方程：\n",
      "Y = 4.177 + 0.688*X1 + 1.380*X2\n",
      "\n",
      "回归结果摘要：\n",
      "                            OLS Regression Results                            \n",
      "==============================================================================\n",
      "Dep. Variable:                      y   R-squared:                       0.131\n",
      "Model:                            OLS   Adj. R-squared:                  0.101\n",
      "Method:                 Least Squares   F-statistic:                     4.440\n",
      "Date:                Wed, 16 Apr 2025   Prob (F-statistic):             0.0160\n",
      "Time:                        15:29:01   Log-Likelihood:                -180.89\n",
      "No. Observations:                  62   AIC:                             367.8\n",
      "Df Residuals:                      59   BIC:                             374.2\n",
      "Df Model:                           2                                         \n",
      "Covariance Type:            nonrobust                                         \n",
      "==============================================================================\n",
      "                 coef    std err          t      P>|t|      [0.025      0.975]\n",
      "------------------------------------------------------------------------------\n",
      "const          4.1774      0.583      7.169      0.000       3.011       5.343\n",
      "x1             0.6880      0.619      1.112      0.271      -0.550       1.926\n",
      "x2             1.3800      0.619      2.231      0.030       0.142       2.618\n",
      "==============================================================================\n",
      "Omnibus:                        8.162   Durbin-Watson:                   1.854\n",
      "Prob(Omnibus):                  0.017   Jarque-Bera (JB):                7.548\n",
      "Skew:                           0.815   Prob(JB):                       0.0230\n",
      "Kurtosis:                       3.514   Cond. No.                         1.42\n",
      "==============================================================================\n",
      "\n",
      "Notes:\n",
      "[1] Standard Errors assume that the covariance matrix of the errors is correctly specified.\n",
      "\n",
      "标准化回归系数：\n",
      "Beta1(X1): 0.143, Beta2(X2): 0.287\n",
      "\n",
      "方差分解:\n",
      "总解释方差 (R²): 13.08%\n",
      "因子1独特贡献: 2.05%\n",
      "因子2独特贡献: 8.26%\n"
     ]
    }
   ],
   "execution_count": 49
  }
 ],
 "metadata": {
  "kernelspec": {
   "display_name": "Python 3",
   "language": "python",
   "name": "python3"
  },
  "language_info": {
   "codemirror_mode": {
    "name": "ipython",
    "version": 2
   },
   "file_extension": ".py",
   "mimetype": "text/x-python",
   "name": "python",
   "nbconvert_exporter": "python",
   "pygments_lexer": "ipython2",
   "version": "2.7.6"
  }
 },
 "nbformat": 4,
 "nbformat_minor": 5
}
